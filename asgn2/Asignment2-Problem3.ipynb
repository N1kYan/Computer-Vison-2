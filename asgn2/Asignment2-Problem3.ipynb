{
 "cells": [
  {
   "cell_type": "code",
   "execution_count": 15,
   "metadata": {},
   "outputs": [],
   "source": [
    "using PyPlot\n",
    "using Optim"
   ]
  },
  {
   "cell_type": "code",
   "execution_count": 16,
   "metadata": {},
   "outputs": [
    {
     "data": {
      "text/plain": [
       "convert_to_grayscale (generic function with 1 method)"
      ]
     },
     "execution_count": 16,
     "metadata": {},
     "output_type": "execute_result"
    }
   ],
   "source": [
    "# Convert an Float32 rbg image to Float64 grayscale image\n",
    "function convert_to_grayscale(I::Array{Float32,3})\n",
    "    I=convert(Array{Float64,3}, I)\n",
    "    I_gray = 0.2989*I[:,:,1] + 0.5870*I[:,:,2] + 0.1140*I[:,:,3]\n",
    "    return I_gray::Array{Float64,2}\n",
    "end"
   ]
  },
  {
   "cell_type": "code",
   "execution_count": 17,
   "metadata": {},
   "outputs": [
    {
     "data": {
      "text/plain": [
       "load_data (generic function with 1 method)"
      ]
     },
     "execution_count": 17,
     "metadata": {},
     "output_type": "execute_result"
    }
   ],
   "source": [
    "# Load Tsukuba disparity dataset and convert it to grayscale\n",
    "function load_data()\n",
    "    i0_path = string(@__DIR__,\"/i0.png\")\n",
    "    i0 = imread(i0_path)\n",
    "    i0 = convert_to_grayscale(i0)\n",
    "    i1_path = string(@__DIR__,\"/i1.png\")\n",
    "    i1 = imread(i1_path)\n",
    "    i1 = convert_to_grayscale(i1)\n",
    "    gt_path = string(@__DIR__,\"/gt.png\")\n",
    "    gt64 = convert(Array{Float64,2}, imread(gt_path)*255)\n",
    "\n",
    "    @assert maximum(gt64) <= 16\n",
    "    return i0::Array{Float64,2}, i1::Array{Float64,2}, gt64::Array{Float64,2}\n",
    "end"
   ]
  },
  {
   "cell_type": "code",
   "execution_count": 19,
   "metadata": {},
   "outputs": [
    {
     "data": {
      "text/plain": [
       "log_studentt (generic function with 1 method)"
      ]
     },
     "execution_count": 19,
     "metadata": {},
     "output_type": "execute_result"
    }
   ],
   "source": [
    "function log_studentt(x::Float64, alpha::Float64, sigma::Float64)\n",
    "    \n",
    "    #TODO: Change the code to accept matrix input\n",
    "    \n",
    "    function log_student(x, alpha, sigma)\n",
    "        return log((1 + (1/(2*sigma^2))*x^2)^(-1*alpha))\n",
    "    end\n",
    "    \n",
    "    function log_grad_student(x, alpha, sigma)\n",
    "        return -(2*alpha*x)/((2*sigma^2)+2x^2)\n",
    "    end\n",
    "    \n",
    "    value = log_student(x, alpha, sigma)\n",
    "    grad = log_grad_student(x, alpha, sigma)\n",
    "\n",
    "    return value::Float64, grad::Float64\n",
    "end"
   ]
  },
  {
   "cell_type": "code",
   "execution_count": 20,
   "metadata": {},
   "outputs": [
    {
     "data": {
      "text/plain": [
       "stereo_log_prior (generic function with 1 method)"
      ]
     },
     "execution_count": 20,
     "metadata": {},
     "output_type": "execute_result"
    }
   ],
   "source": [
    "# Evaluate stereo log prior.\n",
    "# Set: alpha=1.0, sigma=1.0\n",
    "function stereo_log_prior(x::Array{Float64,2})\n",
    "    alpha = 1.0\n",
    "    sigma = 1.0\n",
    "    value = 0\n",
    "    grad = zeros(size(x))\n",
    "    # Vertical potential\n",
    "    for i = 1:size(x)[1]-1#Height?\n",
    "        for j = 1:size(x)[2]#Width?\n",
    "            value += log_studentt(x[i+1, j] - x[i,j], alpha, sigma)[1]\n",
    "        end\n",
    "    end \n",
    "    # Horizontal potential\n",
    "    for i = 1:size(x)[1]#Height?\n",
    "        for j = 1:size(x)[2]-1#Width?\n",
    "            value += log_studentt(x[i, j+1] - x[i,j], alpha, sigma)[1]\n",
    "        end\n",
    "    end\n",
    "    # Partial derivative to every pixel\n",
    "    for k = 1:size(x)[1]\n",
    "        for l = 1:size(x)[2]\n",
    "            if k + 1 <= size(x)[1]\n",
    "                grad[k,l] += log_studentt(x[k,l]-x[k+1,l], alpha, sigma)[2] \n",
    "            end\n",
    "            if k - 1 >= 1\n",
    "                grad[k,l] += log_studentt(x[k,l]-x[k-1,l], alpha, sigma)[2]\n",
    "            end\n",
    "            if l + 1 <= size(x)[2]\n",
    "                grad[k,l] += log_studentt(x[k,l]-x[k,l+1], alpha, sigma)[2]\n",
    "            end\n",
    "            if l - 1 >= 1\n",
    "                grad[k,l] += log_studentt(x[k,l]-x[k,l-1], alpha, sigma)[2]\n",
    "            end\n",
    "        end\n",
    "    end\n",
    "    return  value::Float64, grad::Array{Float64,2}\n",
    "end\n"
   ]
  },
  {
   "cell_type": "code",
   "execution_count": 21,
   "metadata": {},
   "outputs": [
    {
     "data": {
      "text/plain": [
       "image_gradient (generic function with 1 method)"
      ]
     },
     "execution_count": 21,
     "metadata": {},
     "output_type": "execute_result"
    }
   ],
   "source": [
    "# Calculates the gradient of a given image in both directions\n",
    "function image_gradient(im::Array{Float64,2})\n",
    "    horizontal_im_grad = zeros(size(im))\n",
    "    vertical_im_grad = zeros(size(im))\n",
    "    for x = 1:size(im)[1]\n",
    "        for y = 1:size(im)[2]\n",
    "            if x-1 > 0\n",
    "                vertical_im_grad[x,y] -= im[x-1,y]\n",
    "            end\n",
    "            if x+1 < size(im)[1]\n",
    "                vertical_im_grad[x,y] += im[x+1,y]\n",
    "            end\n",
    "            if y-1 > 0\n",
    "                horizontal_im_grad[x,y] -= im[x,y-1]\n",
    "            end\n",
    "            if y+1 < size(im)[2]\n",
    "                horizontal_im_grad[x,y] += im[x,y+1]\n",
    "            end\n",
    "        end\n",
    "    end\n",
    "    return horizontal_im_grad::Array{Float64,2}, vertical_im_grad::Array{Float64,2}\n",
    "end"
   ]
  },
  {
   "cell_type": "code",
   "execution_count": 22,
   "metadata": {},
   "outputs": [
    {
     "data": {
      "text/plain": [
       "shift_disparity (generic function with 1 method)"
      ]
     },
     "execution_count": 22,
     "metadata": {},
     "output_type": "execute_result"
    }
   ],
   "source": [
    "# Shift all pixels of i1 to the right by the value of gt\n",
    "function shift_disparity(i1::Array{Float64,2}, gt::Array{Float64,2})\n",
    "    # TODO: do interpolation... constant disparity map\n",
    "    @assert size(i1) == size(gt)\n",
    "    id = zeros(size(i1))\n",
    "    for x = 1:size(i1)[2] \n",
    "        for y = 1:size(i1)[1]\n",
    "            shifted_index = Int64(floor(x + gt[y,x]))\n",
    "            if (shifted_index > 1) && (shifted_index < size(i1,2))\n",
    "                id[y, shifted_index] = i1[y,x]          \n",
    "            end\n",
    "        end\n",
    "    end\n",
    "    @assert size(id) == size(i1)\n",
    "    return id::Array{Float64,2}\n",
    "end"
   ]
  },
  {
   "cell_type": "code",
   "execution_count": 23,
   "metadata": {},
   "outputs": [
    {
     "data": {
      "text/plain": [
       "stereo_log_likelihood (generic function with 1 method)"
      ]
     },
     "execution_count": 23,
     "metadata": {},
     "output_type": "execute_result"
    }
   ],
   "source": [
    "# Evaluate stereo log likelihood.\n",
    "# Set: Alpha = 1.0, Sigma = 0.004\n",
    "function stereo_log_likelihood(x::Array{Float64,2}, im0::Array{Float64,2}, im1::Array{Float64,2})\n",
    "    alpha = 1.0\n",
    "    sigma = 0.004\n",
    "    value = 0\n",
    "    grad = zeros(size(im1))\n",
    "    # We can shift I1 by the disparity first\n",
    "    im1_d = shift_disparity(im1, x)\n",
    "    # We need the horizontal image derivative from I1 to calculate the gradient of the LH\n",
    "    h_img_grad = image_gradient(im1_d)[1]\n",
    "    for i = 1:size(x)[1]\n",
    "        for j = 1:size(x)[2]\n",
    "            d = im0[i,j]-im1_d[i, j]\n",
    "            value += log_studentt(d, alpha, sigma)[1]\n",
    "            grad[i,j] = (-1)*log_studentt(d, alpha, sigma)[2]*h_img_grad[i, j]          \n",
    "        end\n",
    "    end\n",
    "    return value::Float64, grad::Array{Float64,2}\n",
    "end"
   ]
  },
  {
   "cell_type": "code",
   "execution_count": 24,
   "metadata": {},
   "outputs": [
    {
     "data": {
      "text/plain": [
       "stereo_log_posterior (generic function with 1 method)"
      ]
     },
     "execution_count": 24,
     "metadata": {},
     "output_type": "execute_result"
    }
   ],
   "source": [
    "# Evaluate stereo posterior\n",
    "function stereo_log_posterior(x::Array{Float64,2}, im0::Array{Float64,2}, im1::Array{Float64,2}) \n",
    "    #log(posterior) = log(prior*LH) = log(prior) + log(LH)\n",
    "    # (We can drop the marginalisation terms)\n",
    "    log_posterior = stereo_log_likelihood(x, im0, im1)[1] + stereo_log_prior(x)[1] + stereo_log_prior(im0)[1]\n",
    "    grad_lh = stereo_log_likelihood(x, im0, im1)[2]\n",
    "    grad_x = stereo_log_prior(x)[2]\n",
    "    # (Derivative of I0 to x should be zero, so we drop it ...)\n",
    "    log_posterior_grad = grad_lh + grad_x\n",
    "    return log_posterior::Float64, log_posterior_grad::Array{Float64,2}\n",
    "end"
   ]
  },
  {
   "cell_type": "code",
   "execution_count": 25,
   "metadata": {},
   "outputs": [
    {
     "data": {
      "text/plain": [
       "stereo (generic function with 1 method)"
      ]
     },
     "execution_count": 25,
     "metadata": {},
     "output_type": "execute_result"
    }
   ],
   "source": [
    "# Run stereo algorithm using gradient ascent or sth similar\n",
    "function stereo(x0::Array{Float64,2}, im0::Array{Float64,2}, im1::Array{Float64,2})\n",
    "    print(\"\\nRunning Stereo Algorithm...\")\n",
    "    # Helper function with fixed im0 and im1\n",
    "    function f(y)\n",
    "        value = -stereo_log_posterior(y, im0, im1)[1]\n",
    "        return value\n",
    "    end\n",
    "    function g!(storage, y)\n",
    "        grad = -stereo_log_posterior(y, im0, im1)[2]\n",
    "        storage[:,:] = grad\n",
    "    end\n",
    "    options = Optim.Options(iterations=200, show_trace=false, allow_f_increases=true)\n",
    "    # Specify optim algorithm here\n",
    "    res = optimize(f, g!, x0, GradientDescent(), options)\n",
    "    x = Optim.minimizer(res)\n",
    "    print(\"done!\")\n",
    "    return x::Array{Float64,2}\n",
    "end"
   ]
  },
  {
   "cell_type": "code",
   "execution_count": 26,
   "metadata": {},
   "outputs": [
    {
     "data": {
      "text/plain": [
       "constant_disparity (generic function with 1 method)"
      ]
     },
     "execution_count": 26,
     "metadata": {},
     "output_type": "execute_result"
    }
   ],
   "source": [
    "# create constant disparity of all 8's of size DISPARITY_SIZE\n",
    "function constant_disparity(disparity_size::Tuple{Int64,Int64})\n",
    "    disparity_map = fill(8.0, disparity_size)\n",
    "    return disparity_map::Array{Float64,2}\n",
    "end"
   ]
  },
  {
   "cell_type": "code",
   "execution_count": 27,
   "metadata": {},
   "outputs": [
    {
     "data": {
      "text/plain": [
       "random_disparity (generic function with 1 method)"
      ]
     },
     "execution_count": 27,
     "metadata": {},
     "output_type": "execute_result"
    }
   ],
   "source": [
    "# Create random disparity in [0,14] of size DISPARITY_SIZE\n",
    "# We changed DISPARITY_SIZE to a tuple of integers\n",
    "function random_disparity(disparity_size::Tuple{Int64,Int64})\n",
    "    disparity_map = Array{Float64,2}(rand(collect(1:14),disparity_size))\n",
    "    return disparity_map::Array{Float64,2}\n",
    "end"
   ]
  },
  {
   "cell_type": "code",
   "execution_count": 28,
   "metadata": {},
   "outputs": [
    {
     "data": {
      "text/plain": [
       "problem3 (generic function with 1 method)"
      ]
     },
     "execution_count": 28,
     "metadata": {},
     "output_type": "execute_result"
    }
   ],
   "source": [
    "function problem3()\n",
    "    # use problem 2's load_data\n",
    "    im0, im1, gt = load_data()\n",
    "\n",
    "    # Display stereo: Initialized with constant 8's\n",
    "    const_d = constant_disparity(size(gt))\n",
    "    \n",
    "    # Display stereo: Initialized with noise in [0,14]\n",
    "    random_d = constant_disparity(size(gt))\n",
    "    \n",
    "    # print(\"\\nLH const disp: \", stereo_log_likelihood(const_d, im0, im1)[1])\n",
    "    x = stereo(random_d, im0, im1)\n",
    "    figure()\n",
    "    title(\"Estimated disparity map\")\n",
    "    imshow(x, \"gray\")\n",
    "    show()\n",
    "    figure()\n",
    "    title(\"Ground truth disparity map\")\n",
    "    imshow(gt, \"gray\")\n",
    "    show()\n",
    "    \n",
    "    \n",
    "\n",
    "    # print(\"\\nLH random disp: \", stereo_log_likelihood(random_d, im0, im1)[1])\n",
    "    \n",
    "    # Display stereo: Initialized with gt\n",
    "    # print(\"\\nLH GT disp: \", stereo_log_likelihood(gt, im0, im1)[1])\n",
    "    \n",
    "    # Coarse to fine estimation..\n",
    "\n",
    "end\n"
   ]
  },
  {
   "cell_type": "code",
   "execution_count": 29,
   "metadata": {},
   "outputs": [
    {
     "data": {
      "image/png": "[encoded data removed]",
      "text/plain": [
       "Figure(PyObject <Figure size 640x480 with 1 Axes>)"
      ]
     },
     "metadata": {},
     "output_type": "display_data"
    },
    {
     "data": {
      "image/png": "[encoded data removed]",
      "text/plain": [
       "Figure(PyObject <Figure size 640x480 with 1 Axes>)"
      ]
     },
     "metadata": {},
     "output_type": "display_data"
    },
    {
     "name": "stdout",
     "output_type": "stream",
     "text": [
      "\n",
      "Running Stereo Algorithm...done!"
     ]
    }
   ],
   "source": [
    "problem3()"
   ]
  },
  {
   "cell_type": "code",
   "execution_count": 30,
   "metadata": {},
   "outputs": [
    {
     "data": {
      "text/plain": [
       "9"
      ]
     },
     "execution_count": 30,
     "metadata": {},
     "output_type": "execute_result"
    }
   ],
   "source": [
    "2^2+5"
   ]
  },
  {
   "cell_type": "code",
   "execution_count": 17,
   "metadata": {},
   "outputs": [
    {
     "data": {
      "text/plain": [
       "4"
      ]
     },
     "execution_count": 17,
     "metadata": {},
     "output_type": "execute_result"
    }
   ],
   "source": []
  },
  {
   "cell_type": "code",
   "execution_count": null,
   "metadata": {},
   "outputs": [],
   "source": []
  }
 ],
 "metadata": {
  "@webio": {
   "lastCommId": null,
   "lastKernelId": null
  },
  "kernelspec": {
   "display_name": "Julia 1.1.0",
   "language": "julia",
   "name": "julia-1.1"
  },
  "language_info": {
   "file_extension": ".jl",
   "mimetype": "application/julia",
   "name": "julia",
   "version": "1.1.0"
  }
 },
 "nbformat": 4,
 "nbformat_minor": 2
}
