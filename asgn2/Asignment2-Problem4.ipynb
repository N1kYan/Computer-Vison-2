{
 "cells": [
  {
   "cell_type": "code",
   "execution_count": 1,
   "metadata": {},
   "outputs": [],
   "source": [
    "using PyPlot\n",
    "using Optim"
   ]
  },
  {
   "cell_type": "code",
   "execution_count": 2,
   "metadata": {},
   "outputs": [
    {
     "data": {
      "text/plain": [
       "convert_to_grayscale (generic function with 1 method)"
      ]
     },
     "execution_count": 2,
     "metadata": {},
     "output_type": "execute_result"
    }
   ],
   "source": [
    "# Convert an Float32 rbg image to Float64 grayscale image\n",
    "function convert_to_grayscale(I::Array{Float32,3})\n",
    "    I=convert(Array{Float64,3}, I)\n",
    "    I_gray = 0.2989*I[:,:,1] + 0.5870*I[:,:,2] + 0.1140*I[:,:,3]\n",
    "    return I_gray::Array{Float64,2}\n",
    "end"
   ]
  },
  {
   "cell_type": "code",
   "execution_count": 3,
   "metadata": {},
   "outputs": [
    {
     "data": {
      "text/plain": [
       "load_data (generic function with 1 method)"
      ]
     },
     "execution_count": 3,
     "metadata": {},
     "output_type": "execute_result"
    }
   ],
   "source": [
    "# Load Tsukuba disparity dataset and convert it to grayscale\n",
    "function load_data()\n",
    "    i0_path = string(@__DIR__,\"/i0.png\")\n",
    "    i0 = imread(i0_path)\n",
    "    i0 = convert_to_grayscale(i0)\n",
    "    i1_path = string(@__DIR__,\"/i1.png\")\n",
    "    i1 = imread(i1_path)\n",
    "    i1 = convert_to_grayscale(i1)\n",
    "    gt_path = string(@__DIR__,\"/gt.png\")\n",
    "    gt64 = convert(Array{Float64,2}, imread(gt_path)*255)\n",
    "\n",
    "    @assert maximum(gt64) <= 16\n",
    "    return i0::Array{Float64,2}, i1::Array{Float64,2}, gt64::Array{Float64,2}\n",
    "end"
   ]
  },
  {
   "cell_type": "code",
   "execution_count": 16,
   "metadata": {},
   "outputs": [
    {
     "data": {
      "text/plain": [
       "robust_func (generic function with 1 method)"
      ]
     },
     "execution_count": 16,
     "metadata": {},
     "output_type": "execute_result"
    }
   ],
   "source": [
    "# Robust loss function returning function value and gradient\n",
    "function robust_func(x::Float64,alpha::Float64,c::Float64)\n",
    "    if alpha == 2.0\n",
    "        value = 0.5*(x/c)^2\n",
    "        gradient = x/(c^2)\n",
    "    elseif alpha == 0.0\n",
    "        value = log(0.5*(x/c)^2 + 1.0)\n",
    "        gradient = (2*x)/(x^2 + 2*c^2)\n",
    "    # TODO: case alpha == -inf ?\n",
    "    else\n",
    "        value = abs(alpha-2.0)/alpha * (((x/c)^2/abs(alpha-2) + 1.0)^(alpha/2) - 1.0)\n",
    "        gradient = x/(c^2) * ((x/c)^2/abs(alpha-2.0) + 1.0)^(alpha/2 - 1)\n",
    "    end\n",
    "    # print(\"\\nValue of robust func: \", value)\n",
    "    return value::Float64, gradient::Float64\n",
    "end"
   ]
  },
  {
   "cell_type": "code",
   "execution_count": 17,
   "metadata": {},
   "outputs": [
    {
     "data": {
      "text/plain": [
       "prior (generic function with 1 method)"
      ]
     },
     "execution_count": 17,
     "metadata": {},
     "output_type": "execute_result"
    }
   ],
   "source": [
    "function prior(x::Array{Float64,2})\n",
    "    # TODO: Energy formularisation; Use sum instead of product!\n",
    "    alpha = 2.0\n",
    "    c = 1.0\n",
    "    prior = 0\n",
    "    grad_prior = zeros(size(x))\n",
    "    for i = 1:size(x)[1]-1\n",
    "        for j = 1:size(x)[2]-1\n",
    "            d1 = x[i,j]-x[i+1,j]\n",
    "            d2 = x[i,j]-x[i,j+1]\n",
    "            prior += robust_func(d1, alpha, c)[1] + robust_func(d2, alpha, c)[1]\n",
    "            grad = 0\n",
    "            if i+1 <= size(x)[1]\n",
    "                grad += robust_func(x[i,j]-x[i+1,j], alpha, c)[2]\n",
    "            end\n",
    "            if i-1 >= 1\n",
    "                grad += robust_func(x[i-1,j]-x[i,j], alpha, c)[2]\n",
    "            end\n",
    "            if j+1 <= size(x)[2]\n",
    "                grad += robust_func(x[i,j]-x[i,j+1], alpha, c)[2]\n",
    "            end\n",
    "            if j-1 >= 1\n",
    "                grad += robust_func(x[i,j-1]-x[i,j], alpha, c)[2]\n",
    "            end\n",
    "            grad_prior[i,j] = grad\n",
    "        end\n",
    "    end\n",
    "    # TODO: Normalization\n",
    "    return prior, grad_prior\n",
    "end"
   ]
  },
  {
   "cell_type": "code",
   "execution_count": 18,
   "metadata": {},
   "outputs": [
    {
     "data": {
      "text/plain": [
       "image_gradient (generic function with 1 method)"
      ]
     },
     "execution_count": 18,
     "metadata": {},
     "output_type": "execute_result"
    }
   ],
   "source": [
    "# Calculates the gradient of a given image in both directions\n",
    "function image_gradient(im::Array{Float64,2})\n",
    "    horizontal_im_grad = zeros(size(im))\n",
    "    vertical_im_grad = zeros(size(im))\n",
    "    for x = 1:size(im)[1]\n",
    "        for y = 1:size(im)[2]\n",
    "            if x-1 > 0\n",
    "                vertical_im_grad[x,y] -= im[x-1,y]\n",
    "            end\n",
    "            if x+1 < size(im)[1]\n",
    "                vertical_im_grad[x,y] += im[x+1,y]\n",
    "            end\n",
    "            if y-1 > 0\n",
    "                horizontal_im_grad[x,y] -= im[x,y-1]\n",
    "            end\n",
    "            if y+1 < size(im)[2]\n",
    "                horizontal_im_grad[x,y] += im[x,y+1]\n",
    "            end\n",
    "        end\n",
    "    end\n",
    "    return horizontal_im_grad::Array{Float64,2}, vertical_im_grad::Array{Float64,2}\n",
    "end"
   ]
  },
  {
   "cell_type": "code",
   "execution_count": 19,
   "metadata": {},
   "outputs": [
    {
     "data": {
      "text/plain": [
       "shift_disparity (generic function with 1 method)"
      ]
     },
     "execution_count": 19,
     "metadata": {},
     "output_type": "execute_result"
    }
   ],
   "source": [
    "# Shift all pixels of i1 to the right by the value of gt\n",
    "function shift_disparity(i1::Array{Float64,2}, gt::Array{Float64,2})\n",
    "    # TODO: do interpolation... constant disparity map\n",
    "    @assert size(i1) == size(gt)\n",
    "    id = zeros(size(i1))\n",
    "    for x = 1:size(i1)[2] \n",
    "        for y = 1:size(i1)[1]\n",
    "            # shifted_index = Int64(floor(x + gt[y,x]))\n",
    "            shifted_index = Int64(floor(clamp(x + gt[y,x],0.0, 255.0)))\n",
    "            if (shifted_index > 1) && (shifted_index < size(i1,2))\n",
    "                id[y, shifted_index] = i1[y,x]          \n",
    "            end\n",
    "        end\n",
    "    end\n",
    "    @assert size(id) == size(i1)\n",
    "    return id::Array{Float64,2}\n",
    "end"
   ]
  },
  {
   "cell_type": "code",
   "execution_count": 20,
   "metadata": {},
   "outputs": [
    {
     "data": {
      "text/plain": [
       "likelihood (generic function with 1 method)"
      ]
     },
     "execution_count": 20,
     "metadata": {},
     "output_type": "execute_result"
    }
   ],
   "source": [
    "function likelihood(x::Array{Float64, 2}, im0::Array{Float64, 2}, im1::Array{Float64, 2})\n",
    "    alpha = 0.0\n",
    "    c = 1.0\n",
    "    lh = 0\n",
    "    lh_grad = zeros(size(im1))\n",
    "    # We can shift I1 by the disparity first\n",
    "    im1_d = shift_disparity(im1, x)\n",
    "    # We need the horizontal image derivative from I1 to calculate the gradient of the LH\n",
    "    h_img_grad = image_gradient(im1_d)[1]\n",
    "    for i = 1:size(x)[1]\n",
    "        for j = 1:size(x)[2]\n",
    "            d = im0[i,j]-im1_d[i, j]\n",
    "            lh += robust_func(d, alpha, c)[1]\n",
    "            lh_grad[i,j] = (-1)*robust_func(d, alpha, c)[2]*h_img_grad[i, j]         \n",
    "        end\n",
    "    end\n",
    "    return lh::Float64, lh_grad::Array{Float64,2}\n",
    "end"
   ]
  },
  {
   "cell_type": "code",
   "execution_count": 21,
   "metadata": {},
   "outputs": [
    {
     "data": {
      "text/plain": [
       "posterior (generic function with 1 method)"
      ]
     },
     "execution_count": 21,
     "metadata": {},
     "output_type": "execute_result"
    }
   ],
   "source": [
    "function posterior(x::Array{Float64, 2}, im0::Array{Float64, 2}, im1::Array{Float64, 2})\n",
    "    # (We can again drop the marginalisation terms)\n",
    "    post = likelihood(x, im0, im1)[1] + prior(x)[1] + prior(im0)[1]\n",
    "    grad_lh = likelihood(x, im0, im1)[2]\n",
    "    grad_x = prior(x)[2]\n",
    "    # (Derivative of I0 to x should be zero, so we drop it ...)\n",
    "    post_grad = grad_lh + grad_x\n",
    "    return post::Float64, post_grad::Array{Float64,2}\n",
    "end"
   ]
  },
  {
   "cell_type": "code",
   "execution_count": 30,
   "metadata": {},
   "outputs": [
    {
     "data": {
      "text/plain": [
       "stereo (generic function with 1 method)"
      ]
     },
     "execution_count": 30,
     "metadata": {},
     "output_type": "execute_result"
    }
   ],
   "source": [
    "function stereo(x0::Array{Float64, 2}, im0::Array{Float64, 2}, im1::Array{Float64, 2})\n",
    "    println(\"\\nRunning Stereo Algorithm...\")\n",
    "    # Helper function with fixed im0 and im1\n",
    "    function f(y)\n",
    "        value = -posterior(y, im0, im1)[1]\n",
    "        return value\n",
    "    end\n",
    "    function g!(storage, y)\n",
    "        grad = -posterior(y, im0, im1)[2]\n",
    "        storage[:,:] = grad\n",
    "    end\n",
    "    options = Optim.Options(iterations=200, show_trace=true, allow_f_increases=true)\n",
    "    # Specify optim algorithm here\n",
    "    res = optimize(f, g!, x0, ConjugateGradient(), options)\n",
    "    x = Optim.maximizer(res)\n",
    "    print(\"done!\")\n",
    "    return x::Array{Float64,2}\n",
    "end"
   ]
  },
  {
   "cell_type": "code",
   "execution_count": 23,
   "metadata": {},
   "outputs": [
    {
     "data": {
      "text/plain": [
       "constant_disparity (generic function with 1 method)"
      ]
     },
     "execution_count": 23,
     "metadata": {},
     "output_type": "execute_result"
    }
   ],
   "source": [
    "# create constant disparity of all 8's of size DISPARITY_SIZE\n",
    "function constant_disparity(disparity_size::Tuple{Int64,Int64})\n",
    "    disparity_map = fill(8.0, disparity_size)\n",
    "    return disparity_map::Array{Float64,2}\n",
    "end"
   ]
  },
  {
   "cell_type": "code",
   "execution_count": 24,
   "metadata": {},
   "outputs": [
    {
     "data": {
      "text/plain": [
       "random_disparity (generic function with 1 method)"
      ]
     },
     "execution_count": 24,
     "metadata": {},
     "output_type": "execute_result"
    }
   ],
   "source": [
    "# Create random disparity in [0,14] of size DISPARITY_SIZE\n",
    "# We changed DISPARITY_SIZE to a tuple of integers\n",
    "function random_disparity(disparity_size::Tuple{Int64,Int64})\n",
    "    disparity_map = Array{Float64,2}(rand(collect(1:14),disparity_size))\n",
    "    return disparity_map::Array{Float64,2}\n",
    "end"
   ]
  },
  {
   "cell_type": "code",
   "execution_count": 25,
   "metadata": {},
   "outputs": [
    {
     "data": {
      "text/plain": [
       "problem4 (generic function with 1 method)"
      ]
     },
     "execution_count": 25,
     "metadata": {},
     "output_type": "execute_result"
    }
   ],
   "source": [
    "function problem4()\n",
    "    #  Up to you...\n",
    "    im0, im1, gt = load_data()\n",
    "    #print(\"Prior GT: \", prior(gt)[1])\n",
    "    \n",
    "     # Display stereo: Initialized with constant 8's\n",
    "    const_d = constant_disparity(size(gt))\n",
    "    #print(\"\\nPrior constant disparity: \", prior(const_d)[1])\n",
    "    \n",
    "    # Display stereo: Initialized with noise in [0,14]\n",
    "    random_d = random_disparity(size(gt))\n",
    "    #print(\"\\nPrior random disparity: \", prior(random_d)[1])\n",
    "    \n",
    "    # print(\"\\nLH const disp: \", stereo_log_likelihood(const_d, im0, im1)[1])\n",
    "    x = stereo(const_d, im0, im1)\n",
    "    imshow(x)\n",
    "    \n",
    "    # TODO: pyramid\n",
    "end"
   ]
  },
  {
   "cell_type": "code",
   "execution_count": 31,
   "metadata": {},
   "outputs": [
    {
     "name": "stdout",
     "output_type": "stream",
     "text": [
      "\n",
      "Running Stereo Algorithm...\n",
      "Iter     Function value   Gradient norm \n",
      "     0    -2.309055e+03     3.874187e-01\n",
      "     1    -4.329334e+06     2.686511e+02\n",
      "     2    -1.838070e+08     1.752539e+03\n",
      "     3    -7.934616e+08     3.641969e+03\n",
      "     4    -3.328513e+09     7.460678e+03\n",
      "     5    -1.334852e+10     1.494327e+04\n",
      "     6    -5.323462e+10     2.984705e+04\n",
      "     7    -2.136159e+11     5.979944e+04\n",
      "     8    -8.541591e+11     1.195983e+05\n",
      "     9    -3.417521e+12     2.392691e+05\n",
      "    10    -1.367480e+13     4.787039e+05\n",
      "    11    -5.467421e+13     9.573549e+05\n",
      "    12    -2.187295e+14     1.915185e+06\n",
      "    13    -8.748056e+14     3.830786e+06\n",
      "    14    -3.499130e+15     7.662796e+06\n",
      "    15    -1.399593e+16     1.532791e+07\n",
      "    16    -5.598080e+16     3.066032e+07\n",
      "    17    -2.239132e+17     6.132985e+07\n",
      "    18    -8.956122e+17     1.226780e+08\n",
      "    19    -3.582285e+18     2.453926e+08\n",
      "    20    -1.432848e+19     4.908583e+08\n",
      "    21    -5.731131e+19     9.818628e+08\n",
      "    22    -2.292348e+20     1.964018e+09\n",
      "    23    -9.168974e+20     3.928618e+09\n",
      "    24    -3.667423e+21     7.858403e+09\n",
      "    25    -1.466903e+22     1.571914e+10\n",
      "    26    -5.867345e+22     3.144293e+10\n",
      "    27    -2.346832e+23     6.289516e+10\n",
      "    28    -9.386903e+23     1.258089e+11\n",
      "    29    -3.754592e+24     2.516550e+11\n",
      "    30    -1.501769e+25     5.033842e+11\n",
      "    31    -6.006807e+25     1.006917e+12\n",
      "    32    -2.402615e+26     2.014130e+12\n",
      "    33    -9.610029e+26     4.028853e+12\n",
      "    34    -3.843840e+27     8.058890e+12\n",
      "    35    -1.537467e+28     1.612015e+13\n",
      "    36    -6.149595e+28     3.224502e+13\n",
      "    37    -2.459728e+29     6.449950e+13\n",
      "    38    -9.838476e+29     1.290179e+14\n",
      "    39    -3.935216e+30     2.580735e+14\n",
      "    40    -1.574017e+31     5.162224e+14\n",
      "    41    -6.295788e+31     1.032596e+15\n",
      "    42    -2.518204e+32     2.065492e+15\n",
      "    43    -1.007237e+33     4.131586e+15\n",
      "    44    -4.028772e+33     8.264375e+15\n",
      "    45    -1.611438e+34     1.653115e+16\n",
      "    46    -6.445468e+34     3.306711e+16\n",
      "    47    -2.578074e+35     6.614382e+16\n",
      "    48    -1.031185e+36     1.323068e+17\n",
      "    49    -4.124559e+36     2.646520e+17\n",
      "    50    -1.649752e+37     5.293805e+17\n",
      "    51    -6.598719e+37     1.058914e+18\n",
      "    52    -2.639373e+38     2.118134e+18\n",
      "    53    -1.055703e+39     4.236879e+18\n",
      "    54    -4.222631e+39     8.474980e+18\n",
      "    55    -1.688979e+40     1.695240e+19\n",
      "    56    -6.755627e+40     3.390968e+19\n",
      "    57    -2.702134e+41     6.782911e+19\n",
      "    58    -1.080807e+42     1.356777e+20\n",
      "    59    -4.323043e+42     2.713943e+20\n",
      "    60    -1.729143e+43     5.428664e+20\n",
      "    61    -6.916277e+43     1.085888e+21\n",
      "    62    -2.766393e+44     2.172087e+21\n",
      "    63    -1.106510e+45     4.344795e+21\n",
      "    64    -4.425851e+45     8.690829e+21\n",
      "    65    -1.770265e+46     1.738414e+22\n",
      "    66    -7.080761e+46     3.477323e+22\n",
      "    67    -2.832184e+47     6.955635e+22\n",
      "    68    -1.132826e+48     1.391325e+23\n",
      "    69    -4.531112e+48     2.783045e+23\n",
      "    70    -1.812369e+49     5.566879e+23\n",
      "    71    -7.249170e+49     1.113534e+24\n",
      "    72    -2.899546e+50     2.227383e+24\n",
      "    73    -1.159770e+51     4.455396e+24\n",
      "    74    -4.638885e+51     8.912051e+24\n",
      "    75    -1.855477e+52     1.782662e+25\n",
      "    76    -7.421597e+52     3.565827e+25\n",
      "    77    -2.968515e+53     7.132658e+25\n",
      "    78    -1.187357e+54     1.426732e+26\n",
      "    79    -4.749230e+54     2.853866e+26\n",
      "    80    -1.899614e+55     5.708534e+26\n",
      "    81    -7.598140e+55     1.141867e+27\n",
      "    82    -3.039131e+56     2.284054e+27\n",
      "    83    -1.215602e+57     4.568748e+27\n",
      "    84    -4.862209e+57     9.138775e+27\n",
      "    85    -1.944804e+58     1.828011e+28\n",
      "    86    -7.778897e+58     3.656532e+28\n",
      "    87    -3.111431e+59     7.314083e+28\n",
      "    88    -1.244522e+60     1.463021e+29\n",
      "    89    -4.977884e+60     2.926449e+29\n",
      "    90    -1.991073e+61     5.853711e+29\n",
      "    91    -7.963968e+61     1.170905e+30\n",
      "    92    -3.185458e+62     2.342135e+30\n",
      "    93    -1.274132e+63     4.684919e+30\n",
      "    94    -5.096321e+63     9.371136e+30\n",
      "    95    -2.038446e+64     1.874487e+31\n",
      "    96    -8.153458e+64     3.749492e+31\n",
      "    97    -3.261252e+65     7.500019e+31\n",
      "    98    -1.304449e+66     1.500211e+32\n",
      "    99    -5.217586e+66     3.000835e+32\n",
      "   100    -2.086951e+67     6.002496e+32\n",
      "   101    -8.347471e+67     1.200664e+33\n",
      "   102    -3.338856e+68     2.401659e+33\n",
      "   103    -1.335489e+69     4.803977e+33\n",
      "   104    -5.341745e+69     9.609271e+33\n",
      "   105    -2.136613e+70     1.922118e+34\n",
      "   106    -8.546117e+70     3.844761e+34\n",
      "   107    -3.418312e+71     7.690574e+34\n",
      "   108    -1.367271e+72     1.538325e+35\n",
      "   109    -5.468869e+72     3.077069e+35\n",
      "   110    -2.187462e+73     6.154978e+35\n",
      "   111    -8.749506e+73     1.231163e+36\n",
      "   112    -3.499666e+74     2.462661e+36\n",
      "   113    -1.399812e+75     4.925992e+36\n",
      "   114    -5.599029e+75     9.853321e+36\n",
      "   115    -2.239525e+76     1.970931e+37\n",
      "   116    -8.957752e+76     3.942397e+37\n",
      "   117    -3.582962e+77     7.885860e+37\n",
      "   118    -1.433130e+78     1.577385e+38\n",
      "   119    -5.732297e+78     3.155197e+38\n",
      "   120    -2.292831e+79     6.311245e+38\n",
      "   121    -9.170971e+79     1.262419e+39\n",
      "   122    -3.668248e+80     2.525178e+39\n",
      "   123    -1.467243e+81     5.051035e+39\n",
      "   124    -5.868748e+81     1.010343e+40\n",
      "   125    -2.347410e+82     2.020957e+40\n",
      "   126    -9.389283e+82     4.042455e+40\n",
      "   127    -3.755571e+83     8.085994e+40\n",
      "   128    -1.502171e+84     1.617415e+41\n",
      "   129    -6.008459e+84     3.235263e+41\n",
      "   130    -2.403293e+85     6.471389e+41\n",
      "   131    -9.612810e+85     1.294451e+42\n",
      "   132    -3.844979e+86     2.589246e+42\n",
      "   133    -1.537934e+87     5.179181e+42\n",
      "   134    -6.151506e+87     1.035974e+43\n",
      "   135    -2.460511e+88     2.072223e+43\n",
      "   136    -9.841676e+88     4.144996e+43\n",
      "   137    -3.936524e+89     8.291092e+43\n",
      "   138    -1.574551e+90     1.658438e+44\n",
      "   139    -6.297971e+90     3.317315e+44\n",
      "   140    -2.519095e+91     6.635506e+44\n",
      "   141    -1.007601e+92     1.327276e+45\n",
      "   142    -4.030256e+92     2.654903e+45\n",
      "   143    -1.612043e+93     5.310505e+45\n",
      "   144    -6.447936e+93     1.062241e+46\n",
      "   145    -2.579080e+94     2.124761e+46\n",
      "   146    -1.031594e+95     4.250080e+46\n",
      "   147    -4.126227e+95     8.501274e+46\n",
      "   148    -1.650431e+96     1.700478e+47\n",
      "   149    -6.601483e+96     3.401400e+47\n",
      "   150    -2.640498e+97     6.803691e+47\n",
      "   151    -1.056161e+98     1.360916e+48\n",
      "   152    -4.224491e+98     2.722187e+48\n",
      "   153    -1.689736e+99     5.445083e+48\n",
      "   154    -6.758700e+99     1.089158e+49\n",
      "   155   -2.703383e+100     2.178600e+49\n",
      "   156   -1.081315e+101     4.357767e+49\n",
      "   157   -4.325104e+101     8.716665e+49\n",
      "   158   -1.729980e+102     1.743559e+50\n",
      "   159   -6.919674e+102     3.487570e+50\n",
      "   160   -2.767771e+103     6.976042e+50\n",
      "   161   -1.107069e+104     1.395389e+51\n",
      "   162   -4.428121e+104     2.791138e+51\n",
      "   163   -1.771186e+105     5.582996e+51\n",
      "   164   -7.084495e+105     1.116743e+52\n",
      "   165   -2.833698e+106     2.233773e+52\n",
      "   166   -1.133440e+107     4.468121e+52\n",
      "   167   -4.533600e+107     8.937390e+52\n",
      "   168   -1.813377e+108     1.787707e+53\n",
      "   169   -7.253255e+108     3.575873e+53\n",
      "   170   -2.901201e+109     7.152661e+53\n",
      "   171   -1.160440e+110     1.430715e+54\n",
      "   172   -4.641601e+110     2.861796e+54\n",
      "   173   -1.856576e+111     5.724322e+54\n",
      "   174   -7.426050e+111     1.145010e+55\n",
      "   175   -2.970318e+112     2.290312e+55\n",
      "   176   -1.188086e+113     4.581207e+55\n",
      "   177   -4.752183e+113     9.163579e+55\n",
      "   178   -1.900808e+114     1.832948e+56\n",
      "   179   -7.602975e+114     3.666362e+56\n",
      "   180   -3.041087e+115     7.333652e+56\n",
      "   181   -1.216393e+116     1.466916e+57\n",
      "   182   -4.865409e+116     2.934203e+57\n",
      "   183   -1.946098e+117     5.869146e+57\n",
      "   184   -7.784130e+117     1.173977e+58\n",
      "   185   -3.113548e+118     2.348250e+58\n",
      "   186   -1.245377e+119     4.697091e+58\n",
      "   187   -4.981343e+119     9.395364e+58\n",
      "   188   -1.992471e+120     1.879309e+59\n",
      "   189   -7.969617e+120     3.759089e+59\n",
      "   190   -3.187741e+121     7.519119e+59\n",
      "   191   -1.275054e+122     1.504012e+60\n",
      "   192   -5.100048e+122     3.008400e+60\n",
      "   193   -2.039952e+123     6.017552e+60\n",
      "   194   -8.159539e+123     1.203660e+61\n",
      "   195   -3.263708e+124     2.407621e+61\n",
      "   196   -1.305441e+125     4.815841e+61\n",
      "   197   -5.221592e+125     9.632880e+61\n",
      "   198   -2.088569e+126     1.926815e+62\n"
     ]
    },
    {
     "name": "stdout",
     "output_type": "stream",
     "text": [
      "   199   -8.354003e+126     3.854109e+62\n",
      "   200   -3.341493e+127     7.709172e+62\n"
     ]
    },
    {
     "ename": "MethodError",
     "evalue": "MethodError: no method matching MethodError()\nClosest candidates are:\n  MethodError(!Matched::Any, !Matched::Any) at boot.jl:298\n  MethodError(!Matched::Any, !Matched::Any, !Matched::UInt64) at boot.jl:295",
     "output_type": "error",
     "traceback": [
      "MethodError: no method matching MethodError()\nClosest candidates are:\n  MethodError(!Matched::Any, !Matched::Any) at boot.jl:298\n  MethodError(!Matched::Any, !Matched::Any, !Matched::UInt64) at boot.jl:295",
      "",
      "Stacktrace:",
      " [1] maximizer(::Optim.MultivariateOptimizationResults{ConjugateGradient{Float64,Nothing,getfield(Optim, Symbol(\"##33#35\")),LineSearches.InitialHagerZhang{Float64},LineSearches.HagerZhang{Float64,Base.RefValue{Bool}}},Float64,Array{Float64,2},Float64,Float64,Array{OptimizationState{Float64,ConjugateGradient{Float64,Nothing,getfield(Optim, Symbol(\"##33#35\")),LineSearches.InitialHagerZhang{Float64},LineSearches.HagerZhang{Float64,Base.RefValue{Bool}}}},1}}) at C:\\Users\\Marius\\.julia\\packages\\Optim\\Agd3B\\src\\maximize.jl:46",
      " [2] stereo(::Array{Float64,2}, ::Array{Float64,2}, ::Array{Float64,2}) at .\\In[30]:15",
      " [3] problem4() at .\\In[25]:15",
      " [4] top-level scope at In[31]:1"
     ]
    }
   ],
   "source": [
    "problem4()"
   ]
  },
  {
   "cell_type": "code",
   "execution_count": 32,
   "metadata": {},
   "outputs": [
    {
     "ename": "UndefVarError",
     "evalue": "UndefVarError: gt not defined",
     "output_type": "error",
     "traceback": [
      "UndefVarError: gt not defined",
      "",
      "Stacktrace:",
      " [1] top-level scope at In[32]:1"
     ]
    }
   ],
   "source": []
  },
  {
   "cell_type": "code",
   "execution_count": null,
   "metadata": {},
   "outputs": [],
   "source": []
  }
 ],
 "metadata": {
  "@webio": {
   "lastCommId": null,
   "lastKernelId": null
  },
  "kernelspec": {
   "display_name": "Julia 1.1.0",
   "language": "julia",
   "name": "julia-1.1"
  },
  "language_info": {
   "file_extension": ".jl",
   "mimetype": "application/julia",
   "name": "julia",
   "version": "1.1.0"
  }
 },
 "nbformat": 4,
 "nbformat_minor": 2
}
