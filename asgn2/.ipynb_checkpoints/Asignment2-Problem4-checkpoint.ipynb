{
 "cells": [
  {
   "cell_type": "code",
   "execution_count": 154,
   "metadata": {},
   "outputs": [],
   "source": [
    "using PyPlot\n",
    "using Optim"
   ]
  },
  {
   "cell_type": "code",
   "execution_count": 155,
   "metadata": {},
   "outputs": [
    {
     "data": {
      "text/plain": [
       "convert_to_grayscale (generic function with 1 method)"
      ]
     },
     "execution_count": 155,
     "metadata": {},
     "output_type": "execute_result"
    }
   ],
   "source": [
    "# Convert an Float32 rbg image to Float64 grayscale image\n",
    "function convert_to_grayscale(I::Array{Float32,3})\n",
    "    I=convert(Array{Float64,3}, I)\n",
    "    I_gray = 0.2989*I[:,:,1] + 0.5870*I[:,:,2] + 0.1140*I[:,:,3]\n",
    "    return I_gray::Array{Float64,2}\n",
    "end"
   ]
  },
  {
   "cell_type": "code",
   "execution_count": 156,
   "metadata": {},
   "outputs": [
    {
     "data": {
      "text/plain": [
       "load_data (generic function with 1 method)"
      ]
     },
     "execution_count": 156,
     "metadata": {},
     "output_type": "execute_result"
    }
   ],
   "source": [
    "# Load Tsukuba disparity dataset and convert it to grayscale\n",
    "function load_data()\n",
    "    i0_path = string(@__DIR__,\"/i0.png\")\n",
    "    i0 = imread(i0_path)\n",
    "    i0 = convert_to_grayscale(i0)\n",
    "    i1_path = string(@__DIR__,\"/i1.png\")\n",
    "    i1 = imread(i1_path)\n",
    "    i1 = convert_to_grayscale(i1)\n",
    "    gt_path = string(@__DIR__,\"/gt.png\")\n",
    "    gt64 = convert(Array{Float64,2}, imread(gt_path)*255)\n",
    "\n",
    "    @assert maximum(gt64) <= 16\n",
    "    return i0::Array{Float64,2}, i1::Array{Float64,2}, gt64::Array{Float64,2}\n",
    "end"
   ]
  },
  {
   "cell_type": "code",
   "execution_count": 157,
   "metadata": {},
   "outputs": [
    {
     "data": {
      "text/plain": [
       "robust_func (generic function with 1 method)"
      ]
     },
     "execution_count": 157,
     "metadata": {},
     "output_type": "execute_result"
    }
   ],
   "source": [
    "# Robust loss function returning function value and gradient\n",
    "function robust_func(x::Float64,alpha::Float64,c::Float64)\n",
    "    if alpha == 2.0\n",
    "        value = 0.5*(x/c)^2\n",
    "        gradient = x/(c^2)\n",
    "    elseif alpha == 0.0\n",
    "        value = log(0.5*(x/c)^2 + 1.0)\n",
    "        gradient = (2*x)/(x^2 + 2*c^2)\n",
    "    # TODO: case alpha == -inf ?\n",
    "    else\n",
    "        value = abs(alpha-2.0)/alpha * ((x/c)^2/abs(alpha-2) + 1.0)^(alpha/2) - 1.0\n",
    "        gradient = x/(c^2) * ((x/c)^2/abs(alpha-2.0) + 1.0)^(alpha/2 - 1)\n",
    "    end\n",
    "    # print(\"\\nValue of robust func: \", value)\n",
    "    return value::Float64,gradient::Float64\n",
    "end"
   ]
  },
  {
   "cell_type": "code",
   "execution_count": 158,
   "metadata": {},
   "outputs": [
    {
     "data": {
      "text/plain": [
       "prior (generic function with 1 method)"
      ]
     },
     "execution_count": 158,
     "metadata": {},
     "output_type": "execute_result"
    }
   ],
   "source": [
    "function prior(x::Array{Float64,2})\n",
    "    alpha = 0.0\n",
    "    c = 1.0\n",
    "    prior = 1\n",
    "    grad_prior = zeros(size(x))\n",
    "    for i = 1:size(x)[1]-1\n",
    "        for j = 1:size(x)[2]-1\n",
    "            d1 = x[i,j]-x[i+1,j]\n",
    "            d2 = x[i,j]-x[i,j+1]\n",
    "            prior *= robust_func(d1, alpha, c)[1]*robust_func(d2, alpha, c)[1]\n",
    "            grad = 1\n",
    "            if i+1 <= size(x)[1]\n",
    "                grad *= robust_func(x[i,j]-x[i+1,j], alpha, c)[2]\n",
    "            end\n",
    "            if i-1 >= 1\n",
    "                grad *= robust_func(x[i-1,j]-x[i,j], alpha, c)[2]\n",
    "            end\n",
    "            if j+1 <= size(x)[2]\n",
    "                grad *= robust_func(x[i,j]-x[i,j+1], alpha, c)[2]\n",
    "            end\n",
    "            if j-1 >= 1\n",
    "                grad *= robust_func(x[i,j-1]-x[i,j], alpha, c)[2]\n",
    "            end\n",
    "            grad_prior[i,j] = grad\n",
    "        end\n",
    "    end\n",
    "    # TODO: Normalization\n",
    "    return prior, grad_prior\n",
    "end"
   ]
  },
  {
   "cell_type": "code",
   "execution_count": 159,
   "metadata": {},
   "outputs": [
    {
     "data": {
      "text/plain": [
       "likelihood (generic function with 1 method)"
      ]
     },
     "execution_count": 159,
     "metadata": {},
     "output_type": "execute_result"
    }
   ],
   "source": [
    "function likelihood(x::Array{Float64, 2}, im0::Array{Float64, 2}, im1::Array{Float64, 2})\n",
    "    lh = 1\n",
    "    lh_grad = zeros(size(x))\n",
    "    # TODO\n",
    "    return lh, lh_grad \n",
    "end"
   ]
  },
  {
   "cell_type": "code",
   "execution_count": 160,
   "metadata": {},
   "outputs": [
    {
     "data": {
      "text/plain": [
       "posterior (generic function with 1 method)"
      ]
     },
     "execution_count": 160,
     "metadata": {},
     "output_type": "execute_result"
    }
   ],
   "source": [
    "function posterior(x::Array{Float64, 2}, im0::Array{Float64, 2}, im1::Array{Float64, 2})\n",
    "    # TODO\n",
    "    return post, post_grad\n",
    "end"
   ]
  },
  {
   "cell_type": "code",
   "execution_count": 161,
   "metadata": {},
   "outputs": [
    {
     "data": {
      "text/plain": [
       "stereo (generic function with 1 method)"
      ]
     },
     "execution_count": 161,
     "metadata": {},
     "output_type": "execute_result"
    }
   ],
   "source": [
    "function stereo(x::Array{Float64, 2}, im0::Array{Float64, 2}, im1::Array{Float64, 2})\n",
    "    # TODO: Run Optim algorithm on posterior\n",
    "    return solution\n",
    "end"
   ]
  },
  {
   "cell_type": "code",
   "execution_count": 162,
   "metadata": {},
   "outputs": [
    {
     "data": {
      "text/plain": [
       "problem4 (generic function with 1 method)"
      ]
     },
     "execution_count": 162,
     "metadata": {},
     "output_type": "execute_result"
    }
   ],
   "source": [
    "function problem4()\n",
    "    #  Up to you...\n",
    "    im0, im1, gt = load_data()\n",
    "    figure()\n",
    "    imshow(gt, \"gray\")\n",
    "    colorbar()\n",
    "    show()\n",
    "    print(\"GT: \",size(gt))\n",
    "    print(\"\\nPrior (GT): \", prior(gt)[1])\n",
    "    print(\"\\nGrad Prior (GT): \",size(prior(gt)[2]))\n",
    "    figure()\n",
    "    imshow(prior(gt)[2], \"gray\")\n",
    "    colorbar()\n",
    "    show()\n",
    "\n",
    "    # TODO: pyramid\n",
    "end"
   ]
  },
  {
   "cell_type": "code",
   "execution_count": 163,
   "metadata": {},
   "outputs": [
    {
     "data": {
      "image/png": "[encoded data removed]",
      "text/plain": [
       "Figure(PyObject <Figure size 640x480 with 2 Axes>)"
      ]
     },
     "metadata": {},
     "output_type": "display_data"
    },
    {
     "data": {
      "image/png": "[encoded data removed]",
      "text/plain": [
       "Figure(PyObject <Figure size 640x480 with 2 Axes>)"
      ]
     },
     "metadata": {},
     "output_type": "display_data"
    },
    {
     "name": "stdout",
     "output_type": "stream",
     "text": [
      "GT: (288, 384)\n",
      "Prior (GT): 0.0\n",
      "Grad Prior (GT): (288, 384)"
     ]
    }
   ],
   "source": [
    "problem4()"
   ]
  },
  {
   "cell_type": "code",
   "execution_count": null,
   "metadata": {},
   "outputs": [],
   "source": []
  }
 ],
 "metadata": {
  "kernelspec": {
   "display_name": "Julia 1.1.0",
   "language": "julia",
   "name": "julia-1.1"
  },
  "language_info": {
   "file_extension": ".jl",
   "mimetype": "application/julia",
   "name": "julia",
   "version": "1.1.0"
  }
 },
 "nbformat": 4,
 "nbformat_minor": 2
}
