{
 "cells": [
  {
   "cell_type": "code",
   "execution_count": 86,
   "metadata": {},
   "outputs": [],
   "source": [
    "using PyPlot"
   ]
  },
  {
   "cell_type": "code",
   "execution_count": 87,
   "metadata": {},
   "outputs": [
    {
     "data": {
      "text/plain": [
       "convert_to_grayscale (generic function with 1 method)"
      ]
     },
     "execution_count": 87,
     "metadata": {},
     "output_type": "execute_result"
    }
   ],
   "source": [
    "# Convert an Float32 rbg image to Float64 grayscale image\n",
    "function convert_to_grayscale(I::Array{Float32,3})\n",
    "    I=convert(Array{Float64,3}, I)\n",
    "    I_gray = 0.2989*I[:,:,1] + 0.5870*I[:,:,2] + 0.1140*I[:,:,3]\n",
    "    return I_gray::Array{Float64,2}\n",
    "end"
   ]
  },
  {
   "cell_type": "code",
   "execution_count": 88,
   "metadata": {},
   "outputs": [
    {
     "data": {
      "text/plain": [
       "load_data (generic function with 1 method)"
      ]
     },
     "execution_count": 88,
     "metadata": {},
     "output_type": "execute_result"
    }
   ],
   "source": [
    "# Load Tsukuba disparity dataset and convert it to grayscale\n",
    "function load_data()\n",
    "    i0_path = string(@__DIR__,\"/i0.png\")\n",
    "    i0 = imread(i0_path)\n",
    "    i0 = convert_to_grayscale(i0)\n",
    "    i1_path = string(@__DIR__,\"/i1.png\")\n",
    "    i1 = imread(i1_path)\n",
    "    i1 = convert_to_grayscale(i1)\n",
    "    gt_path = string(@__DIR__,\"/gt.png\")\n",
    "    gt64 = convert(Array{Float64,2}, imread(gt_path)*255)\n",
    "\n",
    "    @assert maximum(gt64) <= 16\n",
    "    return i0::Array{Float64,2}, i1::Array{Float64,2}, gt64::Array{Float64,2}\n",
    "end"
   ]
  },
  {
   "cell_type": "code",
   "execution_count": 89,
   "metadata": {},
   "outputs": [
    {
     "data": {
      "text/plain": [
       "random_disparity (generic function with 2 methods)"
      ]
     },
     "execution_count": 89,
     "metadata": {},
     "output_type": "execute_result"
    }
   ],
   "source": [
    "# Create random disparity in [0,14] of size DISPARITY_SIZE\n",
    "# We changed DISPARITY_SIZE to a tuple of integers\n",
    "function random_disparity(disparity_size::Tuple{Int64,Int64})\n",
    "    disparity_map = Array{Float64,2}(rand(collect(1:16),disparity_size))\n",
    "    return disparity_map::Array{Float64,2}\n",
    "end"
   ]
  },
  {
   "cell_type": "code",
   "execution_count": 90,
   "metadata": {},
   "outputs": [
    {
     "data": {
      "text/plain": [
       "constant_disparity (generic function with 2 methods)"
      ]
     },
     "execution_count": 90,
     "metadata": {},
     "output_type": "execute_result"
    }
   ],
   "source": [
    "# create constant disparity of all 8's of size DISPARITY_SIZE\n",
    "function constant_disparity(disparity_size::Tuple{Int64,Int64})\n",
    "    disparity_map = fill(8.0, disparity_size)\n",
    "    return disparity_map::Array{Float64,2}\n",
    "end"
   ]
  },
  {
   "cell_type": "code",
   "execution_count": 91,
   "metadata": {},
   "outputs": [
    {
     "data": {
      "text/plain": [
       "log_studentt (generic function with 1 method)"
      ]
     },
     "execution_count": 91,
     "metadata": {},
     "output_type": "execute_result"
    }
   ],
   "source": [
    "# Evaluate log of Student-t distribution.\n",
    "# Set sigma=0.7 and alpha=0.8\n",
    "# TODO: Log?\n",
    "function log_studentt(x::Array{Float64,2})\n",
    "    sigma = 0.7\n",
    "    alpha = 0.8\n",
    "    value = zeros(size(x))\n",
    "    for i in 1:size(x)[1]\n",
    "        for j in 1:size(x)[2]\n",
    "            value[i,j] = log((1 + (1 / 2*sigma^2)*x[i,j]^2)^(-alpha))\n",
    "        end\n",
    "    end\n",
    "    return value::Array{Float64,2}\n",
    "end"
   ]
  },
  {
   "cell_type": "code",
   "execution_count": 92,
   "metadata": {},
   "outputs": [
    {
     "data": {
      "text/plain": [
       "mrf_log_prior (generic function with 1 method)"
      ]
     },
     "execution_count": 92,
     "metadata": {},
     "output_type": "execute_result"
    }
   ],
   "source": [
    "# Evaluate pairwise MRF log prior with Student-t distributions.\n",
    "# Set sigma=0.7 and alpha=0.8\n",
    "function mrf_log_prior(x::Array{Float64,2})\n",
    "    student_t = log_studentt(x)\n",
    "    #logp = sum(student_t)\n",
    "    logp = 0\n",
    "    # Vertical potential\n",
    "    for i = 1:size(student_t)[1]-1#Height?\n",
    "        for j = 1:size(student_t)[2]#Width?\n",
    "            logp += (student_t[i+1, j] - student_t[i,j])\n",
    "        end\n",
    "    end \n",
    "    # Horizontal potential\n",
    "    for i = 1:size(student_t)[1]#Height?\n",
    "        for j = 1:size(student_t)[2]-1#Width?\n",
    "            logp += (student_t[i, j+1] - student_t[i,j])\n",
    "        end\n",
    "    end              \n",
    "    return logp::Float64\n",
    "end"
   ]
  },
  {
   "cell_type": "code",
   "execution_count": 93,
   "metadata": {},
   "outputs": [
    {
     "data": {
      "text/plain": [
       "problem2 (generic function with 1 method)"
      ]
     },
     "execution_count": 93,
     "metadata": {},
     "output_type": "execute_result"
    }
   ],
   "source": [
    "# Main function for problem 2\n",
    "function problem2()\n",
    "    i0, i1, gt = load_data()\n",
    "    \n",
    "    # Display log prior of GT disparity map\n",
    "    gt_prior = mrf_log_prior(gt)\n",
    "    print(\"Log prior of GT disparity map: \", gt_prior)\n",
    "    \n",
    "    # Size of disparity map\n",
    "    d_size = size(gt)\n",
    " \n",
    "    # Display log prior of random disparity map\n",
    "    random_disp = random_disparity(d_size)\n",
    "    random_disp_prior = mrf_log_prior(random_disp)\n",
    "    print(\"\\nLog prior of random disparity map: \", random_disp_prior)\n",
    "\n",
    "    # Display log prior of constant disparity map\n",
    "    constant_disp = random_disparity(d_size)\n",
    "    constant_disp_prior = mrf_log_prior(constant_disp)\n",
    "    print(\"\\nLog prior of constant disparity map: \", constant_disp_prior)\n",
    "\n",
    "end"
   ]
  },
  {
   "cell_type": "code",
   "execution_count": 94,
   "metadata": {},
   "outputs": [
    {
     "name": "stdout",
     "output_type": "stream",
     "text": [
      "Log prior of GT disparity map: 1.4845902285287593e-12\n",
      "Log prior of random disparity map: 27.745896105611013\n",
      "Log prior of constant disparity map: 22.25577008054475"
     ]
    }
   ],
   "source": [
    "problem2()"
   ]
  },
  {
   "cell_type": "code",
   "execution_count": null,
   "metadata": {},
   "outputs": [],
   "source": []
  }
 ],
 "metadata": {
  "kernelspec": {
   "display_name": "Julia 1.1.0",
   "language": "julia",
   "name": "julia-1.1"
  },
  "language_info": {
   "file_extension": ".jl",
   "mimetype": "application/julia",
   "name": "julia",
   "version": "1.1.0"
  }
 },
 "nbformat": 4,
 "nbformat_minor": 2
}
