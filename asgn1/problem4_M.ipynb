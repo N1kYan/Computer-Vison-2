{
 "cells": [
  {
   "cell_type": "code",
   "execution_count": 3,
   "metadata": {},
   "outputs": [
    {
     "data": {
      "text/plain": [
       "false"
      ]
     },
     "execution_count": 3,
     "metadata": {},
     "output_type": "execute_result"
    }
   ],
   "source": [
    "ENV[\"MPLBACKEND\"]=\"tkagg\"\n",
    "using PyPlot\n",
    "using Statistics\n",
    "using Distributions\n",
    "pygui(false)\n",
    "\n"
   ]
  },
  {
   "cell_type": "code",
   "execution_count": 4,
   "metadata": {},
   "outputs": [
    {
     "data": {
      "text/plain": [
       "laplacian_nllh (generic function with 1 method)"
      ]
     },
     "execution_count": 4,
     "metadata": {},
     "output_type": "execute_result"
    }
   ],
   "source": [
    "function load_data()\n",
    "\n",
    "    i0_path = string(@__DIR__,\"/skeleton/i0.png\")\n",
    "    i0 = imread(i0_path)\n",
    "    i0 = convert_to_grayscale(i0)\n",
    "    i1_path = string(@__DIR__,\"/skeleton/i1.png\")\n",
    "    i1 = imread(i1_path)\n",
    "    i1 = convert_to_grayscale(i1)\n",
    "    gt_path = string(@__DIR__,\"/skeleton/gt.png\")\n",
    "    gt64 = convert(Array{Float64,2}, imread(gt_path)*255)\n",
    "\n",
    "    @assert maximum(gt64) <= 16\n",
    "    return i0::Array{Float64,2}, i1::Array{Float64,2}, gt64::Array{Float64,2}\n",
    "end\n",
    "\n",
    "#function convert_to_grayscale(image)\n",
    "#    gray_image = zeros(Float64,(size(image)[1],size(image)[2]))\n",
    "#    for i = 1:size(image)[1]\n",
    "#        for j = 1:size(image)[2]\n",
    "#            gray_image[i, j] = mean(image[i, j, :])\n",
    "#        end\n",
    "#    end\n",
    "#    return gray_image\n",
    "#end\n",
    "\n",
    "function convert_to_grayscale(I::Array{Float32,3})\n",
    "    I=convert(Array{Float64,3}, I)\n",
    "    I_gray = 0.2989*I[:,:,1] + 0.5870*I[:,:,2] + 0.1140*I[:,:,3]\n",
    "    return I_gray::Array{Float64,2}\n",
    "end\n",
    "\n",
    "\n",
    "# Shift all pixels of i1 to the right by the value of gt\n",
    "function shift_disparity(i1::Array{Float64,2}, gt::Array{Float64,2})\n",
    "\n",
    "    if !(size(i1) == size(gt))\n",
    "        print(\"Disparity map size does not match image size.\\n\")\n",
    "    end\n",
    "    id = zeros(Float64, size(i1))\n",
    "    #iterating over the columns\n",
    "    for a = 1:size(i1)[1]\n",
    "        #iterating over rows\n",
    "        for b = 1:size(i1)[2]\n",
    "            id[a, b + convert(Int64, gt[a, b])] = i1[a, b]\n",
    "        end\n",
    "    end\n",
    "\n",
    "    @assert size(id) == size(i1)\n",
    "    return id::Array{Float64,2}\n",
    "end\n",
    "\n",
    "\n",
    "# Crop image to the size of the non-zero elements of gt\n",
    "function crop_image(i::Array{Float64,2}, gt::Array{Float64,2})\n",
    "    a = 1\n",
    "    b = 1\n",
    "    while gt[a,convert(Int64,size(gt)[2]/2)] == 0\n",
    "        a+=1\n",
    "    end\n",
    "\n",
    "    while gt[convert(Int64,size(gt)[1]/2),b] == 0\n",
    "        b+=1\n",
    "    end\n",
    "\n",
    "    ic= copy(i[a:size(i)[1]-a,b:size(i)[2]-b])\n",
    "\n",
    "    return ic::Array{Float64,2}\n",
    "end\n",
    "\n",
    "#replace i percent of the pixels with random noise \n",
    "function make_noise(i::Array{Float64,2}, noise_level::Float64)\n",
    "\n",
    "    i_noise = copy(i)\n",
    "\n",
    "    arr=[]\n",
    "\n",
    "    totalpx=(size(i)[1])*(size(i)[2])\n",
    "    while ((size(arr)[1])/totalpx)<noise_level\n",
    "        while ((size(arr)[1])/totalpx)<noise_level\n",
    "\n",
    "            push!(arr,[rand(1:size(i)[1]),rand(1:size(i)[2])])\n",
    "            \n",
    "        end\n",
    "        #remove duplicate pixels\n",
    "        arr = unique(arr)\n",
    "    end\n",
    "    \n",
    "    println(size(arr))\n",
    "    for p in arr\n",
    "        i_noise[p[1],p[2]]=rand()*0.8+0.1\n",
    "    end\n",
    "    @assert size(i_noise) == size(i)\n",
    "\n",
    "    return i_noise::Array{Float64,2}\n",
    "end\n",
    "\n",
    "\n",
    "# Compute the gaussian likelihood by multiplying the probabilities of a gaussian distribution\n",
    "# with the given parameters for all pixels\n",
    "function gaussian_lh(i0::Array{Float64,2},\n",
    "                        i1d::Array{Float64,2}, mu::Float64, sigma::Float64)\n",
    "    gauss = Normal(mu, sigma)\n",
    "    l = 1\n",
    "    for a = 1:size(i0)[1]\n",
    "        for b = 1:size(i0)[2]\n",
    "            l = l * pdf(gauss, (i0[a, b]-i1d[a, b]))\n",
    "        end\n",
    "    end\n",
    "\n",
    "\n",
    "\n",
    "    return l::Float64\n",
    "end\n",
    "\n",
    "\n",
    "# Compute the negative logarithmic gaussian likelihood in log domain\n",
    "function gaussian_nllh(i0::Array{Float64,2},\n",
    "                        i1d::Array{Float64,2}, mu::Float64, sigma::Float64)\n",
    "\n",
    "    gauss = Normal(mu, sigma)\n",
    "    sum = 0\n",
    "    for a = 1:size(i0)[1]\n",
    "        for b = 1:size(i0)[2]\n",
    "            sum = sum + log(pdf(gauss, (i0[a, b]-i1d[a, b])))\n",
    "        end\n",
    "    end\n",
    "    nll= -sum\n",
    "    return nll::Float64\n",
    "end\n",
    "\n",
    "\n",
    "# Compute the negative logarithmic laplacian likelihood in log domain\n",
    "function laplacian_nllh(i0::Array{Float64,2},\n",
    "                        i1d::Array{Float64,2}, mu::Float64, s::Float64)\n",
    "    sum = 0\n",
    "    for a = 1:size(i0)[1]\n",
    "        for b = 1:size(i0)[2]\n",
    "            sum = sum + log((1/(2*s)*exp(-abs(i0[a, b]-i1d[a, b]-mu)/s)))\n",
    "        end\n",
    "    end\n",
    "    nll= -sum\n",
    "    return nll::Float64\n",
    "end\n",
    "\n"
   ]
  },
  {
   "cell_type": "code",
   "execution_count": 5,
   "metadata": {},
   "outputs": [
    {
     "name": "stdout",
     "output_type": "stream",
     "text": [
      "Assignment 1 - Problem 4:"
     ]
    }
   ],
   "source": [
    "print(\"Assignment 1 - Problem 4:\")\n",
    "\n",
    "p0,p1,dm = load_data()\n",
    "p0_shifted = shift_disparity(p0,dm)\n",
    "p0_shifted_cropped = crop_image(p0_shifted, dm)\n",
    "p0_cropped = crop_image(p0, dm)\n",
    "\n",
    "\n",
    "print(\"\")"
   ]
  },
  {
   "cell_type": "code",
   "execution_count": 6,
   "metadata": {},
   "outputs": [
    {
     "name": "stdout",
     "output_type": "stream",
     "text": [
      "\n",
      "\n",
      "Task 2:\n",
      "Gaussian Likelihood: 0.0"
     ]
    }
   ],
   "source": [
    "#Task 2\n",
    "print(\"\\n\\nTask 2:\")\n",
    "print(\"\\nGaussian Likelihood: \",\n",
    "        gaussian_lh(p0_cropped, p0_shifted_cropped, 0.0, 1.2))"
   ]
  },
  {
   "cell_type": "code",
   "execution_count": 7,
   "metadata": {},
   "outputs": [
    {
     "name": "stdout",
     "output_type": "stream",
     "text": [
      "\n",
      "\n",
      "Task 3:\n",
      "Negative Gaussian Log Likelihood: 96725.77743835456"
     ]
    }
   ],
   "source": [
    "#Task 3\n",
    "print(\"\\n\\nTask 3:\")\n",
    "print(\"\\nNegative Gaussian Log Likelihood: \",\n",
    "        gaussian_nllh(p0_cropped, p0_shifted_cropped, 0.0, 1.2))"
   ]
  },
  {
   "cell_type": "code",
   "execution_count": 8,
   "metadata": {},
   "outputs": [
    {
     "name": "stdout",
     "output_type": "stream",
     "text": [
      "\n",
      "\n",
      "Generating noise ...(13272,)\n",
      "\n",
      "\n",
      "Generating more noise ...(27648,)\n",
      "\n"
     ]
    }
   ],
   "source": [
    "#Task 4\n",
    "print(\"\\n\\nGenerating noise ...\")\n",
    "p1_shifted = shift_disparity(p1, dm)\n",
    "p1_shifted_cropped = crop_image(p1_shifted, dm)\n",
    "p1_noisy_12 = make_noise(p1, 0.12)\n",
    "#p1_noisy_12_shifted = shift_disparity(p1_noisy_12, dm)\n",
    "#p1_noisy_12_shifted_cropped = crop_image(p1_noisy_12_shifted, dm)\n",
    "print(\"\\n\\nGenerating more noise ...\")\n",
    "p1_noisy_25 = make_noise(p1, 0.25)\n",
    "println(\"\")"
   ]
  },
  {
   "cell_type": "code",
   "execution_count": 9,
   "metadata": {},
   "outputs": [
    {
     "name": "stdout",
     "output_type": "stream",
     "text": [
      "\n",
      "\n",
      "Task 4:\n",
      "Gaussian Likelihood 0% noise: 0.0\n",
      "Negative Gaussian Log Likelihood 0% noise: 97207.48698113066\n",
      "Gaussian Likelihood 12% noise: 0.0\n",
      "Negative Gaussian Log Likelihood 12% noise: 97631.67729216842\n",
      "Gaussian Likelihood 25% noise: 0.0\n",
      "Negative Gaussian Log Likelihood 25% noise: 98062.49179956064"
     ]
    }
   ],
   "source": [
    "#Task 4\n",
    "p0_shifted_cropped_2 = crop_image(p0_shifted, dm)\n",
    "p0_cropped  = crop_image(p0, dm)\n",
    "p1_cropped_2  = crop_image(p1, dm)\n",
    "p1_noisy_12_cropped_2 = crop_image(p1_noisy_12, dm)\n",
    "p1_noisy_25_cropped_2 = crop_image(p1_noisy_25, dm)\n",
    "\n",
    "\n",
    "\n",
    "print(\"\\n\\nTask 4:\")\n",
    "print(\"\\nGaussian Likelihood 0% noise: \",\n",
    "        gaussian_lh(p0_shifted_cropped_2, p1_cropped_2, 0.0, 1.2))\n",
    "print(\"\\nNegative Gaussian Log Likelihood 0% noise: \",\n",
    "        gaussian_nllh(p0_shifted_cropped_2, p1_cropped_2, 0.0, 1.2))\n",
    "print(\"\\nGaussian Likelihood 12% noise: \",\n",
    "        gaussian_lh(p0_shifted_cropped_2, p1_noisy_12_cropped_2, 0.0, 1.2))\n",
    "print(\"\\nNegative Gaussian Log Likelihood 12% noise: \",\n",
    "        gaussian_nllh(p0_shifted_cropped_2, p1_noisy_12_cropped_2, 0.0, 1.2))\n",
    "print(\"\\nGaussian Likelihood 25% noise: \",\n",
    "        gaussian_lh(p0_shifted_cropped_2, p1_noisy_25_cropped_2, 0.0, 1.2))\n",
    "print(\"\\nNegative Gaussian Log Likelihood 25% noise: \",\n",
    "        gaussian_nllh(p0_shifted_cropped_2, p1_noisy_25_cropped_2, 0.0, 1.2))"
   ]
  },
  {
   "cell_type": "code",
   "execution_count": 10,
   "metadata": {},
   "outputs": [
    {
     "name": "stdout",
     "output_type": "stream",
     "text": [
      "\n",
      "\n",
      "Task 5:\n",
      "Negative Laplacian Log Likelihood 0% noise: 85516.11954763561\n",
      "Negative Laplacian Log Likelihood 12% noise: 87291.9339075292\n",
      "Negative Laplacian Log Likelihood 25% noise: 89136.24444133752"
     ]
    }
   ],
   "source": [
    "#Task 5 Marius\n",
    "print(\"\\n\\nTask 5:\")\n",
    "print(\"\\nNegative Laplacian Log Likelihood 0% noise: \",\n",
    "        laplacian_nllh(p1_cropped_2, p0_shifted_cropped_2, 0.0, 1.2))\n",
    "print(\"\\nNegative Laplacian Log Likelihood 12% noise: \",\n",
    "        laplacian_nllh(p1_noisy_12_cropped_2, p0_shifted_cropped_2, 0.0, 1.2))\n",
    "print(\"\\nNegative Laplacian Log Likelihood 25% noise: \",\n",
    "        laplacian_nllh(p1_noisy_25_cropped_2, p0_shifted_cropped_2, 0.0, 1.2))"
   ]
  }
 ],
 "metadata": {
  "@webio": {
   "lastCommId": null,
   "lastKernelId": null
  },
  "kernelspec": {
   "display_name": "Julia 1.1.0",
   "language": "julia",
   "name": "julia-1.1"
  },
  "language_info": {
   "file_extension": ".jl",
   "mimetype": "application/julia",
   "name": "julia",
   "version": "1.1.0"
  }
 },
 "nbformat": 4,
 "nbformat_minor": 2
}
