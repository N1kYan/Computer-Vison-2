{
 "cells": [
  {
   "cell_type": "code",
   "execution_count": 19,
   "metadata": {},
   "outputs": [
    {
     "data": {
      "text/plain": [
       "problem4 (generic function with 1 method)"
      ]
     },
     "execution_count": 19,
     "metadata": {},
     "output_type": "execute_result"
    }
   ],
   "source": [
    "ENV[\"MPLBACKEND\"]=\"tkagg\"\n",
    "using PyPlot\n",
    "using Statistics\n",
    "using Distributions\n",
    "pygui(true)\n",
    "\n",
    "function load_data()\n",
    "    \n",
    "    i0_path = string(@__DIR__,\"/skeleton/i0.png\")\n",
    "    i0 = imread(i0_path)\n",
    "    i0 = convert_to_grayscale(i0)\n",
    "    i1_path = string(@__DIR__,\"/skeleton/i1.png\")\n",
    "    i1 = imread(i1_path)\n",
    "    i1 = convert_to_grayscale(i1)\n",
    "    gt_path = string(@__DIR__,\"/skeleton/gt.png\")\n",
    "    gt64 = convert(Array{Float64,2}, imread(gt_path)*255)\n",
    "\n",
    "    @assert maximum(gt64) <= 16\n",
    "    return i0::Array{Float64,2}, i1::Array{Float64,2}, gt64::Array{Float64,2}\n",
    "end\n",
    "\n",
    "#function convert_to_grayscale(image)\n",
    "#    gray_image = zeros(Float64,(size(image)[1],size(image)[2]))\n",
    "#    for i = 1:size(image)[1]\n",
    "#        for j = 1:size(image)[2]\n",
    "#            gray_image[i, j] = mean(image[i, j, :])\n",
    "#        end\n",
    "#    end\n",
    "#    return gray_image\n",
    "#end\n",
    "\n",
    "function convert_to_grayscale(I::Array{Float32,3})\n",
    "    I=convert(Array{Float64,3}, I)\n",
    "    I_gray = 0.2989*I[:,:,1] + 0.5870*I[:,:,2] + 0.1140*I[:,:,3]\n",
    "    return I_gray::Array{Float64,2}\n",
    "end\n",
    "\n",
    "\n",
    "# Shift all pixels of i1 to the right by the value of gt\n",
    "function shift_disparity(i1::Array{Float64,2}, gt::Array{Float64,2})\n",
    "    \n",
    "    if !(size(i1) == size(gt))\n",
    "        print(\"Disparity map size does not match image size.\\n\")\n",
    "    end\n",
    "    id = zeros(Float64, size(i1))\n",
    "    #iterating over the columns\n",
    "    for a = 1:size(i1)[1]\n",
    "        #iterating over rows\n",
    "        for b = 1:size(i1)[2]\n",
    "            id[a, b + convert(Int64, gt[a, b])] = i1[a, b]\n",
    "        end\n",
    "    end\n",
    "    \n",
    "    \n",
    "    @assert size(id) == size(i1)\n",
    "    return id::Array{Float64,2}\n",
    "end\n",
    "\n",
    "\n",
    "# Crop image to the size of the non-zero elements of gt\n",
    "function crop_image(i::Array{Float64,2}, gt::Array{Float64,2})\n",
    "    a = 1\n",
    "    b = 1\n",
    "    while gt[a,convert(Int64,size(gt)[2]/2)] == 0\n",
    "        a+=1\n",
    "        \n",
    "    end\n",
    "    \n",
    "    while gt[convert(Int64,size(gt)[1]/2),b] == 0\n",
    "        b+=1\n",
    "        \n",
    "    end\n",
    "    \n",
    "    ic= copy(i[a:size(i)[1]-a,b:size(i)[2]-b])\n",
    "\n",
    "    return ic::Array{Float64,2}\n",
    "end\n",
    "\n",
    "function make_noise(i::Array{Float64,2}, noise_level::Float64)\n",
    "    \n",
    "    i_noise = copy(i)    \n",
    "    \n",
    "    arr=[]\n",
    "    \n",
    "    \n",
    "    totalpx=(size(i)[1])*(size(i)[2])    \n",
    "    while ((size(arr)[1])/totalpx)<noise_level        \n",
    "                \n",
    "        push!(arr,[rand(1:size(i)[1]),rand(1:size(i)[2])])\n",
    "        arr = unique(arr)\n",
    "    end\n",
    "    \n",
    "    println(((size(arr)[1])/totalpx))\n",
    "    for p in arr\n",
    "        i_noise[p[1],p[2]]=rand()*0.8+0.1\n",
    "    end\n",
    "    @assert size(i_noise) == size(i)\n",
    "    \n",
    "    return i_noise::Array{Float64,2}\n",
    "end\n",
    "\n",
    "\n",
    "# Compute the gaussian likelihood by multiplying the probabilities of a gaussian distribution\n",
    "# with the given parameters for all pixels\n",
    "function gaussian_lh(i0::Array{Float64,2}, i1::Array{Float64,2}, mu::Float64, sigma::Float64)\n",
    "    \n",
    "    gauss = Normal(mu, sigma)\n",
    "    l = 1\n",
    "    for a = 1:size(i0)[1]\n",
    "        for b = 1:size(i0)[2]\n",
    "            l = l * pdf(gauss, (i0[a, b]-i1[a, b]))\n",
    "        end\n",
    "    end\n",
    "    \n",
    "\n",
    "\n",
    "    return l::Float64\n",
    "end\n",
    "\n",
    "\n",
    "# Compute the negative logarithmic gaussian likelihood in log domain\n",
    "function gaussian_nllh(i0::Array{Float64,2}, i1::Array{Float64,2}, mu::Float64, sigma::Float64)\n",
    "    \n",
    "    gauss = Normal(mu, sigma)\n",
    "    sum = 0\n",
    "    for a = 1:size(i0)[1]\n",
    "        for b = 1:size(i0)[2]\n",
    "            sum = sum + log(pdf(gauss, (i0[a, b]-i1[a, b])))\n",
    "        end\n",
    "    end\n",
    "    nll= -sum\n",
    "\n",
    "\n",
    "    return nll::Float64\n",
    "end\n",
    "\n",
    "\n",
    "# Compute the negative logarithmic laplacian likelihood in log domain\n",
    "function laplacian_nllh(i0::Array{Float64,2}, i1::Array{Float64,2}, mu::Float64, s::Float64)\n",
    "    function lap(x, mu, s)\n",
    "        y =\n",
    "        return y\n",
    "    end\n",
    "    sum = 0\n",
    "    for a = 1:size(i0)[1]\n",
    "        for b = 1:size(i0)[2]\n",
    "            sum = sum + log((1/2*s)*exp(-abs(i0[a, b]-i1[a, b]-mu)/s))\n",
    "        end\n",
    "    end\n",
    "    nll= -sum\n",
    "    \n",
    "\n",
    "    return nll::Float64\n",
    "end\n",
    "\n",
    "\n",
    "function problem4()\n",
    "    # implemented me..\n",
    "end"
   ]
  },
  {
   "cell_type": "code",
   "execution_count": 4,
   "metadata": {},
   "outputs": [
    {
     "data": {
      "text/plain": [
       "PyObject <matplotlib.image.AxesImage object at 0x00000000361EC6A0>"
      ]
     },
     "execution_count": 4,
     "metadata": {},
     "output_type": "execute_result"
    }
   ],
   "source": [
    "\n",
    "p1,p2,dm=load_data()\n",
    "\n",
    "shifted=shift_disparity(p1,dm)\n",
    "imshow(crop_image(shifted,dm),\"gray\")\n"
   ]
  },
  {
   "cell_type": "code",
   "execution_count": 20,
   "metadata": {},
   "outputs": [
    {
     "name": "stdout",
     "output_type": "stream",
     "text": [
      "0.1000072337962963\n"
     ]
    },
    {
     "data": {
      "text/plain": [
       "288×384 Array{Float64,2}:\n",
       " 0.00622314  0.0108271  0.0108271  …  0.00690588  0.0108271  0.452521 \n",
       " 0.0085251   0.0170502  0.0143012     0.01038     0.0170502  0.0085251\n",
       " 0.132712    0.0170502  0.013129      0.0842239   0.284488   0.0433686\n",
       " 0.0433686   0.1983     0.176604      0.514165    0.157512   0.0788949\n",
       " 0.074738    0.212855   0.225163      0.15811     0.158962   0.0784478\n",
       " 0.0782122   0.209381   0.167867   …  0.163161    0.156618   0.07962  \n",
       " 0.0809612   0.201539   0.155421      0.153911    0.158962   0.0761459\n",
       " 0.0782122   0.206868   0.159578      0.163161    0.15666    0.077318 \n",
       " 0.0782122   0.20433    0.668967      0.159004    0.165675   0.604176 \n",
       " 0.0805141   0.207804   0.166502      0.163161    0.166804   0.0784478\n",
       " 0.0837526   0.200451   0.165118   …  0.162031    0.166847   0.0816863\n",
       " 0.0821333   0.208529   0.164267      0.170321    0.169149   0.0835412\n",
       " 0.0798314   0.2152     0.157765      0.169149    0.168466   0.0851604\n",
       " ⋮                                 ⋱                                  \n",
       " 0.0927671   0.0552165  0.0360576     0.180785    0.182405   0.0909788\n",
       " 0.0888459   0.0552165  0.0379125     0.175692    0.18055    0.092598 \n",
       " 0.0883988   0.0556635  0.0372298     0.178931    0.181233   0.0909788\n",
       " 0.0888459   0.0579655  0.0402569     0.281228    0.171215   0.0856498\n",
       " 0.0814506   0.0568357  0.0407039  …  0.154038    0.159367   0.0781698\n",
       " 0.0814082   0.0529145  0.0367827     0.182127    0.175904   0.0875047\n",
       " 0.0849247   0.0570714  0.0399788     0.186984    0.182296   0.0883565\n",
       " 0.897042    0.0556635  0.0367827     0.218632    0.213538   0.101335 \n",
       " 0.693656    0.0584126  0.462297      0.250279    0.2542     0.124197 \n",
       " 0.111243    0.0556635  0.0367827  …  0.300125    0.300125   0.148667 \n",
       " 0.133876    0.0584126  0.0427278     0.346091    0.342575   0.168315 \n",
       " 0.0752275   0.0262337  0.0183914     0.184447    0.183553   0.087269 "
      ]
     },
     "execution_count": 20,
     "metadata": {},
     "output_type": "execute_result"
    }
   ],
   "source": [
    "np=make_noise(p1,0.1)"
   ]
  },
  {
   "cell_type": "code",
   "execution_count": 21,
   "metadata": {},
   "outputs": [
    {
     "data": {
      "text/plain": [
       "PyObject <matplotlib.image.AxesImage object at 0x00000000024B49B0>"
      ]
     },
     "execution_count": 21,
     "metadata": {},
     "output_type": "execute_result"
    }
   ],
   "source": [
    "imshow(np,\"gray\")"
   ]
  }
 ],
 "metadata": {
  "@webio": {
   "lastCommId": null,
   "lastKernelId": null
  },
  "kernelspec": {
   "display_name": "Julia 1.1.0",
   "language": "julia",
   "name": "julia-1.1"
  },
  "language_info": {
   "file_extension": ".jl",
   "mimetype": "application/julia",
   "name": "julia",
   "version": "1.1.0"
  }
 },
 "nbformat": 4,
 "nbformat_minor": 2
}
