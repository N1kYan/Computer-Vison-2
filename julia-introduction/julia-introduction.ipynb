{
 "cells": [
  {
   "cell_type": "markdown",
   "metadata": {},
   "source": [
    "### 1) Loading packages"
   ]
  },
  {
   "cell_type": "code",
   "execution_count": null,
   "metadata": {
    "scrolled": true
   },
   "outputs": [],
   "source": [
    "# Add packages with\n",
    "using Pkg \n",
    "Pkg.add(\"PyPlot\")\n",
    "\n",
    "# Update all your packages with\n",
    "# Pkg.update()\n",
    "\n",
    "# Get a list of all installed packages and dependencies with\n",
    "Pkg.status()"
   ]
  },
  {
   "cell_type": "markdown",
   "metadata": {},
   "source": [
    "### 2) Data types"
   ]
  },
  {
   "cell_type": "code",
   "execution_count": null,
   "metadata": {
    "scrolled": true
   },
   "outputs": [],
   "source": [
    "# Julia is using dynamic typing\n",
    "\n",
    "x = 42 # Int\n",
    "typeof(x)"
   ]
  },
  {
   "cell_type": "code",
   "execution_count": null,
   "metadata": {},
   "outputs": [],
   "source": [
    "y = 5.4 # Float64\n",
    "t = true # Bool\n",
    "c = 'a' # Char\n",
    "s = \"Hello, CV2!\" # ASCIIString\n",
    "typeof(y), typeof(t), typeof(c), typeof(s)"
   ]
  },
  {
   "cell_type": "code",
   "execution_count": null,
   "metadata": {},
   "outputs": [],
   "source": [
    "a1 = [4, 2] # 1D array\n",
    "a2 = [4; 2] # Also 1D array\n",
    "typeof(a1), typeof(a2)"
   ]
  },
  {
   "cell_type": "code",
   "execution_count": null,
   "metadata": {},
   "outputs": [],
   "source": [
    "v1 = [1 3]  # 1x2 Matrix, \"row vector\"\n",
    "v2 = [1 3]' # 2x1 Matrix, \"column vector\"\n",
    "A = [1 2; 3 4] # 2x2 Matrix\n",
    "println(v1, \"\\n\", typeof(v1), \"\\n\")\n",
    "println(v2, \"\\n\", typeof(v2), \"\\n\")\n",
    "println(A, \"\\n\", typeof(A), \"\\n\")"
   ]
  },
  {
   "cell_type": "code",
   "execution_count": null,
   "metadata": {},
   "outputs": [],
   "source": [
    "arange = 1:0.5:10 # Range\n",
    "arange, typeof(arange)"
   ]
  },
  {
   "cell_type": "code",
   "execution_count": null,
   "metadata": {},
   "outputs": [],
   "source": [
    "# composite types\n",
    "struct MyType\n",
    "  x::Int64\n",
    "  y::Bool\n",
    "end\n",
    "\n",
    "# constructors\n",
    "m = MyType(5,true)\n",
    "m, m.x, m.y"
   ]
  },
  {
   "cell_type": "markdown",
   "metadata": {},
   "source": [
    "### 3) Frequent operators"
   ]
  },
  {
   "cell_type": "code",
   "execution_count": null,
   "metadata": {},
   "outputs": [],
   "source": [
    "# Math as usual\n",
    "40+2\n",
    "21*2\n",
    "126/3 # division will always yield floating points\n",
    "div(126,3) # integer division\n",
    "3^3\n",
    "sqrt(100)\n",
    "29%3 # modulo\n",
    "\n",
    "# boolean operators\n",
    "4 == 4 # true\n",
    "4 > 5 # false\n",
    "3 != 2 # true\n",
    "1 <= 1.1 # true\n",
    "true && false # false\n",
    "true || false # true\n",
    "\n",
    "# bitwise operators\n",
    "~true # not\n",
    "1 & 3 # and\n",
    "1 | 2 # or\n",
    "xor(3, 2) # xor\n",
    "\n",
    "# updating operators\n",
    "x = 1\n",
    "x += 3 # 4"
   ]
  },
  {
   "cell_type": "code",
   "execution_count": null,
   "metadata": {},
   "outputs": [],
   "source": [
    "# elementwise operators\n",
    "a = [1 2; 3 4].^2"
   ]
  },
  {
   "cell_type": "markdown",
   "metadata": {},
   "source": [
    "### Broadcasting"
   ]
  },
  {
   "cell_type": "code",
   "execution_count": null,
   "metadata": {},
   "outputs": [],
   "source": [
    "b1 = [0 0; 0 0] .+ [5, 6] # Broadcast along 2nd dimension\n",
    "b2 = [0 0; 0 0] .+ [5 6]  # Broadcast along 1st dimension\n",
    "b3 = [0 0; 0 0] .+ [5 6]' # Broadcast along 2nd dimension\n",
    "b1, b2, b3"
   ]
  },
  {
   "cell_type": "markdown",
   "metadata": {},
   "source": [
    "### Indexing"
   ]
  },
  {
   "cell_type": "code",
   "execution_count": null,
   "metadata": {},
   "outputs": [],
   "source": [
    "# Indices always starts at 1!\n",
    "A = [1:3 4:6 7:9]"
   ]
  },
  {
   "cell_type": "code",
   "execution_count": null,
   "metadata": {},
   "outputs": [],
   "source": [
    "A[6] # linear indexing"
   ]
  },
  {
   "cell_type": "code",
   "execution_count": null,
   "metadata": {},
   "outputs": [],
   "source": [
    "A[1,3] # row, column"
   ]
  },
  {
   "cell_type": "code",
   "execution_count": null,
   "metadata": {},
   "outputs": [],
   "source": [
    "A[1,:] # implicit range"
   ]
  },
  {
   "cell_type": "code",
   "execution_count": null,
   "metadata": {},
   "outputs": [],
   "source": [
    "A[end,end-1:end] # special index 'end'"
   ]
  },
  {
   "cell_type": "code",
   "execution_count": null,
   "metadata": {},
   "outputs": [],
   "source": [
    "A[A.>5] # boolean indexing"
   ]
  },
  {
   "cell_type": "markdown",
   "metadata": {},
   "source": [
    "### 4) Control structures"
   ]
  },
  {
   "cell_type": "code",
   "execution_count": null,
   "metadata": {},
   "outputs": [],
   "source": [
    "# conditions\n",
    "if 55 < 5\n",
    "  1\n",
    "elseif 55 < 50\n",
    "  2\n",
    "else\n",
    "  3\n",
    "end #result of last evaluated statement is returned"
   ]
  },
  {
   "cell_type": "code",
   "execution_count": null,
   "metadata": {},
   "outputs": [],
   "source": [
    "# shorter\n",
    "1 > 2 ? 1 : 2"
   ]
  },
  {
   "cell_type": "code",
   "execution_count": null,
   "metadata": {},
   "outputs": [],
   "source": [
    "# loops\n",
    "for i = 1:3\n",
    "    println(i)\n",
    "end"
   ]
  },
  {
   "cell_type": "code",
   "execution_count": null,
   "metadata": {},
   "outputs": [],
   "source": [
    "i = 9\n",
    "while i > 0\n",
    "  i -= 5\n",
    "end\n",
    "i"
   ]
  },
  {
   "cell_type": "code",
   "execution_count": null,
   "metadata": {},
   "outputs": [],
   "source": [
    "# comments\n",
    "# single line comment\n",
    "#=\n",
    "multi\n",
    "line\n",
    "comment\n",
    "=#"
   ]
  },
  {
   "cell_type": "markdown",
   "metadata": {},
   "source": [
    "### 5) Functions"
   ]
  },
  {
   "cell_type": "code",
   "execution_count": null,
   "metadata": {},
   "outputs": [],
   "source": [
    "function foo()\n",
    "    println(\"Hello World!\")\n",
    "end\n",
    "# The previous function will return Nothing. The printed text is a side effect.\n",
    "a = foo()\n",
    "a, typeof(a)"
   ]
  },
  {
   "cell_type": "code",
   "execution_count": null,
   "metadata": {},
   "outputs": [],
   "source": [
    "# Note that the last statement in a function will be returned.\n",
    "function bar()\n",
    "  a = 0\n",
    "  b = a+5\n",
    "  return b\n",
    "end\n",
    "println(bar())"
   ]
  },
  {
   "cell_type": "code",
   "execution_count": null,
   "metadata": {},
   "outputs": [],
   "source": [
    "# You can (and should!) also use the return keyword.\n",
    "function baz()\n",
    "  a = 0\n",
    "  return 10\n",
    "end\n",
    "baz()"
   ]
  },
  {
   "cell_type": "code",
   "execution_count": null,
   "metadata": {},
   "outputs": [],
   "source": [
    "# There is also a shortcut for small functions ~ lambda functions in Python\n",
    "\n",
    "add5(x) = x+5\n",
    "add5(1) # returns 6"
   ]
  },
  {
   "cell_type": "code",
   "execution_count": null,
   "metadata": {},
   "outputs": [],
   "source": [
    "# Type Annotations\n",
    "# Although Julia uses multiple dispatch, you can always use explicit type annotations\n",
    "function add(x::Int, y::Float64)\n",
    "  return x+y\n",
    "end\n",
    "add(1, 1.0)"
   ]
  },
  {
   "cell_type": "code",
   "execution_count": null,
   "metadata": {
    "scrolled": true
   },
   "outputs": [],
   "source": [
    "# NOTE: Julias type system is sometimes not so obvious (because it is invariant)\n",
    "# This means that \n",
    "Int64<:Number "
   ]
  },
  {
   "cell_type": "code",
   "execution_count": null,
   "metadata": {},
   "outputs": [],
   "source": [
    "# In contrast, check this result..\n",
    "Array{Int64}<:Array{Number} "
   ]
  },
  {
   "cell_type": "markdown",
   "metadata": {},
   "source": [
    "###  6) Plotting"
   ]
  },
  {
   "cell_type": "code",
   "execution_count": null,
   "metadata": {},
   "outputs": [],
   "source": [
    "# We will use the PyPlot package for plotting\n",
    "# get it by typing Pkg.add(\"PyPlot\")\n",
    "# make it available with import or using keyword\n",
    "\n",
    "using PyPlot\n",
    "# Pkg.status()"
   ]
  },
  {
   "cell_type": "code",
   "execution_count": null,
   "metadata": {},
   "outputs": [],
   "source": [
    "# basic plotting\n",
    "x = 1:5\n",
    "plot(x) # plot x versus it's indices\n",
    "gcf() # gets the current figure handle"
   ]
  },
  {
   "cell_type": "code",
   "execution_count": null,
   "metadata": {},
   "outputs": [],
   "source": [
    "plot(x,2*x) # first argument: x-axis, second argument: y-axis\n",
    "grid(\"on\")"
   ]
  },
  {
   "cell_type": "code",
   "execution_count": null,
   "metadata": {
    "scrolled": true
   },
   "outputs": [],
   "source": [
    "# customize the view\n",
    "x = pi*(-24:24)/24\n",
    "figure()  # create new figure\n",
    "plot(x,sin.(x))\n",
    "xlabel(\"radians\") # change label for x-axis\n",
    "ylabel(\"sine\") # change label for y-axis\n",
    "title(\"My Figure\") # set title"
   ]
  },
  {
   "cell_type": "code",
   "execution_count": null,
   "metadata": {},
   "outputs": [],
   "source": [
    "# subplotting\n",
    "figure()\n",
    "subplot(1,2,1) # split figure in 1 row and 2 columns and use the first subspace\n",
    "plot(x,sin.(x))\n",
    "subplot(1,2,2)\n",
    "plot(x,2*cos.(x))"
   ]
  },
  {
   "cell_type": "code",
   "execution_count": null,
   "metadata": {},
   "outputs": [],
   "source": [
    "# line style\n",
    "plot(x,sin.(x))\n",
    "plot(x,2*cos.(x), \"r--\")\n",
    "legend([\"Sine\",\"Cosine\"])"
   ]
  },
  {
   "cell_type": "markdown",
   "metadata": {},
   "source": [
    "### 7) Basic Image Processing and JLD Container"
   ]
  },
  {
   "cell_type": "code",
   "execution_count": null,
   "metadata": {},
   "outputs": [],
   "source": [
    "using PyPlot\n",
    "using JLD"
   ]
  },
  {
   "cell_type": "code",
   "execution_count": null,
   "metadata": {},
   "outputs": [],
   "source": [
    "# load images with imread (method in both, PyPlot and Images packages)\n",
    "I = PyPlot.imread(\"flower.png\")\n",
    "typeof(I)"
   ]
  },
  {
   "cell_type": "code",
   "execution_count": null,
   "metadata": {},
   "outputs": [],
   "source": [
    "# show image intensity \"range\"\n",
    "minimum(I), maximum(I)"
   ]
  },
  {
   "cell_type": "code",
   "execution_count": null,
   "metadata": {
    "scrolled": false
   },
   "outputs": [],
   "source": [
    "# show image\n",
    "PyPlot.imshow(I)"
   ]
  },
  {
   "cell_type": "code",
   "execution_count": null,
   "metadata": {},
   "outputs": [],
   "source": [
    "# Note: Some of the signal processing stuff has been moved into the DSP package in newer Julia versions\n",
    "using DSP\n",
    "\n",
    "# convert to gray\n",
    "I_gray = 0.2989*I[:,:,1] + 0.5870*I[:,:,2] + 0.1140*I[:,:,3]\n",
    "k = ones(9,9)/(9*9)\n",
    "F = DSP.conv2(I_gray, k)"
   ]
  },
  {
   "cell_type": "code",
   "execution_count": null,
   "metadata": {},
   "outputs": [],
   "source": [
    "# plot images\n",
    "figure()\n",
    "subplot(1,2,1)\n",
    "PyPlot.imshow(I_gray, \"gray\")\n",
    "PyPlot.axis(\"off\")\n",
    "subplot(1,2,2)\n",
    "PyPlot.imshow(F, \"gray\")\n",
    "PyPlot.axis(\"off\")"
   ]
  },
  {
   "cell_type": "code",
   "execution_count": null,
   "metadata": {},
   "outputs": [],
   "source": [
    "# use JLD container to read/write data\n",
    "\n",
    "# write image as JLD file with key 'image'\n",
    "path = \"flower.jld\"\n",
    "key = \"image\"\n",
    "JLD.save(path, key, I)"
   ]
  },
  {
   "cell_type": "code",
   "execution_count": null,
   "metadata": {},
   "outputs": [],
   "source": [
    "# load stored container (all keys)\n",
    "I2 = JLD.load(path)"
   ]
  },
  {
   "cell_type": "code",
   "execution_count": null,
   "metadata": {},
   "outputs": [],
   "source": [
    "# load specific key\n",
    "I2 = JLD.load(path, \"image\")\n",
    "typeof(I2)"
   ]
  }
 ],
 "metadata": {
  "@webio": {
   "lastCommId": null,
   "lastKernelId": null
  },
  "celltoolbar": "Raw Cell Format",
  "kernelspec": {
   "display_name": "Julia 1.1.0",
   "language": "julia",
   "name": "julia-1.1"
  },
  "language_info": {
   "file_extension": ".jl",
   "mimetype": "application/julia",
   "name": "julia",
   "version": "1.1.0"
  }
 },
 "nbformat": 4,
 "nbformat_minor": 1
}
