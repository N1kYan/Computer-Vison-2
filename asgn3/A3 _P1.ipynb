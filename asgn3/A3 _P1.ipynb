{
 "cells": [
  {
   "cell_type": "code",
   "execution_count": 2,
   "metadata": {},
   "outputs": [],
   "source": [
    "from __future__ import absolute_import\n",
    "from __future__ import division\n",
    "from __future__ import print_function\n",
    "\n",
    "import gco\n",
    "import matplotlib.pyplot as plt\n",
    "import numpy as np\n",
    "from scipy.sparse import csr_matrix\n",
    "from utils import rgb2gray"
   ]
  },
  {
   "cell_type": "code",
   "execution_count": null,
   "metadata": {},
   "outputs": [],
   "source": [
    "def edges4connected(height, width):\n",
    "    \"\"\" Construct edges for 4-connected neighborhood MRF. Assume row-major ordering.\n",
    "\n",
    "      Args:\n",
    "        height of MRF.\n",
    "        width of MRF.\n",
    "\n",
    "      Returns:\n",
    "        A `nd.array` with dtype `int32/int64` of size |E| x 2.\n",
    "    \"\"\"\n",
    "\n",
    "    edges = []\n",
    "\n",
    "    # sanity check\n",
    "    assert (edges.shape[0] == 2 * (height*width) - (height+width) and edges.shape[1] == 2)\n",
    "    assert (edges.dtype in [np.int32, np.int64])\n",
    "    return edges\n"
   ]
  },
  {
   "cell_type": "code",
   "execution_count": null,
   "metadata": {},
   "outputs": [],
   "source": [
    "def negative_log_laplacian(x, s):\n",
    "    \"\"\" Elementwise evaluation of a log Laplacian. \"\"\"\n",
    "\n",
    "    result = -np.log((1.0/(2*s)) * np.exp(-np.abs(x)/s))\n",
    "\n",
    "    assert (np.equal(result.shape, x.shape).all())\n",
    "    return result"
   ]
  },
  {
   "cell_type": "code",
   "execution_count": 8,
   "metadata": {},
   "outputs": [],
   "source": [
    "def shift_image(im, d, invalid_penalty):\n",
    "    #\n",
    "    # -------------------------------------------------\n",
    "    # TODO: Shift i1 by d using invalid_penalty\n",
    "    # -------------------------------------------------\n",
    "    #\n",
    "    shifted_im = np.zeros(size(im))\n",
    "    for i in np.arange(0, im.shape[0]):\n",
    "        for j in np.arance(0, im.shape[1]):\n",
    "            shifted_index = j + d[i,j]\n",
    "            # shifted_index = ...\n",
    "            shifted_im[i,shifted_index] = im[i,j]\n",
    "    return shifted_im"
   ]
  },
  {
   "cell_type": "code",
   "execution_count": null,
   "metadata": {},
   "outputs": [],
   "source": [
    "def negative_stereo_loglikelihood(i0, i1, d, s, invalid_penalty=1000.0):\n",
    "    \"\"\" Elementwise stereo negative log likelihood.\n",
    "\n",
    "      Args:\n",
    "        i0, i1                  stereo pair of images.\n",
    "        d                       given disparities.\n",
    "        invalid_penalty:        penalty value if disparity yields position outside of valid range.\n",
    "\n",
    "      Returns:\n",
    "        A `nd.array` with dtype `float32/float64`.\n",
    "    \"\"\"\n",
    "\n",
    "    x = i0 - shift_imgae(i1, d, invalid_penalty)\n",
    "    nllh = sum(negative_stereo_loglikelihood(x, s))\n",
    "\n",
    "    assert (np.equal(nllh.shape, d.shape).all())\n",
    "    assert (nllh.dtype in [np.float32, np.float64])\n",
    "    return nllh\n"
   ]
  },
  {
   "cell_type": "code",
   "execution_count": null,
   "metadata": {},
   "outputs": [],
   "source": [
    "def alpha_expansion(i0, i1, edges, d0, candidate_disparities, s, lmbda):\n",
    "    \"\"\" Run alpha-expansion algorithm.\n",
    "\n",
    "      Args:\n",
    "        i0, i1:                  Given grayscale images.\n",
    "        edges:                   Given neighboor of MRF.\n",
    "        d0:                      Initial disparities.\n",
    "        candidate_disparities:   Set of labels to consider\n",
    "        lmbda:                   Regularization parameter for Potts model.\n",
    "\n",
    "      Runs through the set of candidates and iteratively expands a label.\n",
    "      If there have been recorded changes, re-run through the complete set of candidates.\n",
    "      Stops, if there are no changes anymore.\n",
    "\n",
    "      Returns:\n",
    "        A `nd.array` of type `int32`. Assigned labels (source=0 or target=1) minimizing the costs.\n",
    "\n",
    "\n",
    "    \"\"\"\n",
    "\n",
    "    d = []\n",
    "\n",
    "    assert (np.equal(d.shape, d0.shape).all())\n",
    "    assert (d.dtype == d0.dtype)\n",
    "    return d"
   ]
  },
  {
   "cell_type": "code",
   "execution_count": null,
   "metadata": {},
   "outputs": [],
   "source": [
    "def show_stereo(d, gt):\n",
    "    \"\"\"\n",
    "    Visualize estimate and ground truth in one Figure.\n",
    "    Only show the area for valid gt values (>0).\n",
    "    \"\"\"\n",
    "\n",
    "    # Crop images to valid ground truth area\n",
    "\n",
    "    return"
   ]
  },
  {
   "cell_type": "code",
   "execution_count": null,
   "metadata": {},
   "outputs": [],
   "source": [
    "def evaluate_stereo(d, gt):\n",
    "    \"\"\"Computes percentage of false labels in the valid region (gt > 0).\"\"\"\n",
    "\n",
    "    result = []\n",
    "\n",
    "    return result"
   ]
  },
  {
   "cell_type": "code",
   "execution_count": null,
   "metadata": {},
   "outputs": [],
   "source": [
    "def problem1():\n",
    "    # Read stereo images and ground truth disparities\n",
    "    i0 = rgb2gray(plt.imread('i0.png')).squeeze().astype(np.float32)\n",
    "    i1 = rgb2gray(plt.imread('i1.png')).squeeze().astype(np.float32)\n",
    "    gt = (255 * plt.imread('gt.png')).astype(np.int32)\n",
    "\n",
    "    # Set Potts penalty\n",
    "    lmbda = 3.0\n",
    "    s = 10.0 / 255.0\n",
    "\n",
    "    # Create 4 connected edge neighborhood\n",
    "    edges = edges4connected(i0.shape[0], i0.shape[1])\n",
    "\n",
    "    # Candidate search range\n",
    "    candidate_disparities = np.arange(0, gt.max() + 1)\n",
    "\n",
    "    # Graph cuts with zero initialization\n",
    "    zero_init = np.zeros(gt.shape).astype(np.int32)\n",
    "    estimate_zero_init = alpha_expansion(i0, i1, edges, zero_init, candidate_disparities, s, lmbda)\n",
    "    show_stereo(estimate_zero_init, gt)\n",
    "    perc_correct = evaluate_stereo(estimate_zero_init, gt)\n",
    "    print(\"Correct labels (zero init): %3.2f%%\" % (perc_correct*100))\n",
    "\n",
    "    # Graph cuts with random initialization\n",
    "    random_init = np.random.randint(low=0, high=gt.max() + 1, size=i0.shape)\n",
    "    estimate_random_init = alpha_expansion(i0, i1, edges, random_init, candidate_disparities, s, lmbda)\n",
    "    show_stereo(estimate_random_init, gt)\n",
    "    perc_correct = evaluate_stereo(estimate_random_init, gt)\n",
    "    print(\"Correct labels (random init): %3.2f%%\" % (perc_correct*100))"
   ]
  },
  {
   "cell_type": "code",
   "execution_count": 11,
   "metadata": {},
   "outputs": [
    {
     "ename": "NameError",
     "evalue": "name 'size' is not defined",
     "output_type": "error",
     "traceback": [
      "\u001b[0;31m---------------------------------------------------------------------------\u001b[0m",
      "\u001b[0;31mNameError\u001b[0m                                 Traceback (most recent call last)",
      "\u001b[0;32m<ipython-input-11-6807bc0fe993>\u001b[0m in \u001b[0;36m<module>\u001b[0;34m()\u001b[0m\n\u001b[1;32m      2\u001b[0m \u001b[0mgt\u001b[0m \u001b[0;34m=\u001b[0m \u001b[0;34m(\u001b[0m\u001b[0;36m255\u001b[0m \u001b[0;34m*\u001b[0m \u001b[0mplt\u001b[0m\u001b[0;34m.\u001b[0m\u001b[0mimread\u001b[0m\u001b[0;34m(\u001b[0m\u001b[0;34m'gt.png'\u001b[0m\u001b[0;34m)\u001b[0m\u001b[0;34m)\u001b[0m\u001b[0;34m.\u001b[0m\u001b[0mastype\u001b[0m\u001b[0;34m(\u001b[0m\u001b[0mnp\u001b[0m\u001b[0;34m.\u001b[0m\u001b[0mint32\u001b[0m\u001b[0;34m)\u001b[0m\u001b[0;34m\u001b[0m\u001b[0;34m\u001b[0m\u001b[0m\n\u001b[1;32m      3\u001b[0m \u001b[0mplt\u001b[0m\u001b[0;34m.\u001b[0m\u001b[0mfigure\u001b[0m\u001b[0;34m(\u001b[0m\u001b[0;34m)\u001b[0m\u001b[0;34m\u001b[0m\u001b[0;34m\u001b[0m\u001b[0m\n\u001b[0;32m----> 4\u001b[0;31m \u001b[0mplt\u001b[0m\u001b[0;34m.\u001b[0m\u001b[0mimshow\u001b[0m\u001b[0;34m(\u001b[0m\u001b[0mshift_image\u001b[0m\u001b[0;34m(\u001b[0m\u001b[0mi0\u001b[0m\u001b[0;34m,\u001b[0m\u001b[0mgt\u001b[0m\u001b[0;34m,\u001b[0m\u001b[0;36m1000\u001b[0m\u001b[0;34m)\u001b[0m\u001b[0;34m,\u001b[0m \u001b[0mcmap\u001b[0m\u001b[0;34m=\u001b[0m\u001b[0;34m'gray'\u001b[0m\u001b[0;34m)\u001b[0m\u001b[0;34m\u001b[0m\u001b[0;34m\u001b[0m\u001b[0m\n\u001b[0m\u001b[1;32m      5\u001b[0m \u001b[0mplt\u001b[0m\u001b[0;34m.\u001b[0m\u001b[0mshow\u001b[0m\u001b[0;34m(\u001b[0m\u001b[0;34m)\u001b[0m\u001b[0;34m\u001b[0m\u001b[0;34m\u001b[0m\u001b[0m\n",
      "\u001b[0;32m<ipython-input-8-822a1751ae9c>\u001b[0m in \u001b[0;36mshift_image\u001b[0;34m(im, d, invalid_penalty)\u001b[0m\n\u001b[1;32m      5\u001b[0m     \u001b[0;31m# -------------------------------------------------\u001b[0m\u001b[0;34m\u001b[0m\u001b[0;34m\u001b[0m\u001b[0;34m\u001b[0m\u001b[0m\n\u001b[1;32m      6\u001b[0m     \u001b[0;31m#\u001b[0m\u001b[0;34m\u001b[0m\u001b[0;34m\u001b[0m\u001b[0;34m\u001b[0m\u001b[0m\n\u001b[0;32m----> 7\u001b[0;31m     \u001b[0mshifted_im\u001b[0m \u001b[0;34m=\u001b[0m \u001b[0mnp\u001b[0m\u001b[0;34m.\u001b[0m\u001b[0mzeros\u001b[0m\u001b[0;34m(\u001b[0m\u001b[0msize\u001b[0m\u001b[0;34m(\u001b[0m\u001b[0mim\u001b[0m\u001b[0;34m)\u001b[0m\u001b[0;34m)\u001b[0m\u001b[0;34m\u001b[0m\u001b[0;34m\u001b[0m\u001b[0m\n\u001b[0m\u001b[1;32m      8\u001b[0m     \u001b[0;32mfor\u001b[0m \u001b[0mi\u001b[0m \u001b[0;32min\u001b[0m \u001b[0mnp\u001b[0m\u001b[0;34m.\u001b[0m\u001b[0marange\u001b[0m\u001b[0;34m(\u001b[0m\u001b[0;36m0\u001b[0m\u001b[0;34m,\u001b[0m \u001b[0msize\u001b[0m\u001b[0;34m(\u001b[0m\u001b[0mim\u001b[0m\u001b[0;34m)\u001b[0m\u001b[0;34m[\u001b[0m\u001b[0;36m0\u001b[0m\u001b[0;34m]\u001b[0m\u001b[0;34m)\u001b[0m\u001b[0;34m:\u001b[0m\u001b[0;34m\u001b[0m\u001b[0;34m\u001b[0m\u001b[0m\n\u001b[1;32m      9\u001b[0m         \u001b[0;32mfor\u001b[0m \u001b[0mj\u001b[0m \u001b[0;32min\u001b[0m \u001b[0mnp\u001b[0m\u001b[0;34m.\u001b[0m\u001b[0marance\u001b[0m\u001b[0;34m(\u001b[0m\u001b[0;36m0\u001b[0m\u001b[0;34m,\u001b[0m \u001b[0msize\u001b[0m\u001b[0;34m(\u001b[0m\u001b[0mim\u001b[0m\u001b[0;34m)\u001b[0m\u001b[0;34m[\u001b[0m\u001b[0;36m1\u001b[0m\u001b[0;34m]\u001b[0m\u001b[0;34m)\u001b[0m\u001b[0;34m:\u001b[0m\u001b[0;34m\u001b[0m\u001b[0;34m\u001b[0m\u001b[0m\n",
      "\u001b[0;31mNameError\u001b[0m: name 'size' is not defined"
     ]
    },
    {
     "data": {
      "text/plain": [
       "<Figure size 432x288 with 0 Axes>"
      ]
     },
     "metadata": {},
     "output_type": "display_data"
    }
   ],
   "source": [
    "i0 = rgb2gray(plt.imread('i0.png')).squeeze().astype(np.float32)\n",
    "gt = (255 * plt.imread('gt.png')).astype(np.int32)\n",
    "plt.figure()\n",
    "plt.imshow(shift_image(i0,gt,1000), cmap='gray')\n",
    "plt.show()\n"
   ]
  },
  {
   "cell_type": "code",
   "execution_count": null,
   "metadata": {},
   "outputs": [],
   "source": []
  },
  {
   "cell_type": "code",
   "execution_count": null,
   "metadata": {},
   "outputs": [],
   "source": []
  }
 ],
 "metadata": {
  "@webio": {
   "lastCommId": null,
   "lastKernelId": null
  },
  "kernelspec": {
   "display_name": "Python 3",
   "language": "python",
   "name": "python3"
  },
  "language_info": {
   "codemirror_mode": {
    "name": "ipython",
    "version": 3
   },
   "file_extension": ".py",
   "mimetype": "text/x-python",
   "name": "python",
   "nbconvert_exporter": "python",
   "pygments_lexer": "ipython3",
   "version": "3.6.7"
  }
 },
 "nbformat": 4,
 "nbformat_minor": 2
}
