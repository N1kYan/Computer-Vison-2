{
 "cells": [
  {
   "cell_type": "code",
   "execution_count": 1,
   "metadata": {},
   "outputs": [
    {
     "name": "stdout",
     "output_type": "stream",
     "text": [
      "`import numpy` ok!\n",
      "`import torch` failed\n",
      "`import matplotlib.pyplot` ok!\n",
      "`import maxflow` ok!\n"
     ]
    }
   ],
   "source": [
    "\n",
    "if __name__ == '__main__':\n",
    "    allgood = True\n",
    "    try:\n",
    "        import numpy as np\n",
    "        A = np.ones((5,5))\n",
    "        print('`import numpy` ok!')\n",
    "    except:\n",
    "        allgood = False\n",
    "        print('`import numpy` failed')\n",
    "\n",
    "    try:\n",
    "        import torch\n",
    "        A = torch.randn(5,5)\n",
    "        print('`import torch` ok!')\n",
    "    except:\n",
    "        allgood = False\n",
    "        print('`import torch` failed')\n",
    "\n",
    "    try:\n",
    "        import matplotlib.pyplot as plt\n",
    "        h = plt.figure()\n",
    "        plt.close(h)\n",
    "        print('`import matplotlib.pyplot` ok!')\n",
    "    except:\n",
    "        allgood = False\n",
    "        print('`import matplotlib.pyplot` failed')\n",
    "\n",
    "    try:\n",
    "        import maxflow\n",
    "        print('`import maxflow` ok!')\n",
    "    except:\n",
    "        allgood = False\n",
    "        print('`import maxflow` failed')\n",
    "\n",
    "    if allgood:\n",
    "        import gco\n",
    "        print('\\n\\nRunning graphcuts example..')\n",
    "        gco.test_graphcut()\n",
    "        print(\"\\n\\nEverything is ok!\")\n"
   ]
  },
  {
   "cell_type": "code",
   "execution_count": null,
   "metadata": {},
   "outputs": [],
   "source": []
  }
 ],
 "metadata": {
  "kernelspec": {
   "display_name": "Python 3",
   "language": "python",
   "name": "python3"
  },
  "language_info": {
   "codemirror_mode": {
    "name": "ipython",
    "version": 3
   },
   "file_extension": ".py",
   "mimetype": "text/x-python",
   "name": "python",
   "nbconvert_exporter": "python",
   "pygments_lexer": "ipython3",
   "version": "3.7.3"
  }
 },
 "nbformat": 4,
 "nbformat_minor": 2
}
