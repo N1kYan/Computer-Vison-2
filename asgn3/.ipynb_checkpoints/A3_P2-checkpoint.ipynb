{
 "cells": [
  {
   "cell_type": "code",
   "execution_count": 89,
   "metadata": {},
   "outputs": [],
   "source": [
    "import os\n",
    "import matplotlib.pyplot as plt\n",
    "import numpy as np\n",
    "import torch\n",
    "import torch.nn.functional as tf\n",
    "import torch.optim as optim\n",
    "\n",
    "from utils import flow2rgb\n",
    "from utils import rgb2gray\n",
    "from utils import read_flo\n",
    "from utils import read_image"
   ]
  },
  {
   "cell_type": "code",
   "execution_count": 90,
   "metadata": {},
   "outputs": [],
   "source": [
    "def numpy2torch(array):\n",
    "    \"\"\" Converts 3D numpy HWC ndarray to 3D PyTorch CHW tensor.\"\"\"\n",
    "    assert (array.ndim == 3)\n",
    "\n",
    "    result = np.copy(array)\n",
    "    result = np.moveaxis(result,[1,2,0],[2,0,1])\n",
    "    result = torch.from_numpy(result)\n",
    "    \n",
    "    return result\n"
   ]
  },
  {
   "cell_type": "code",
   "execution_count": 91,
   "metadata": {},
   "outputs": [
    {
     "data": {
      "text/plain": [
       "(2, 3, 4)"
      ]
     },
     "execution_count": 91,
     "metadata": {},
     "output_type": "execute_result"
    }
   ],
   "source": [
    "a=np.ones([2,3,4]) #HWC -> CHW 312\n",
    "a.shape"
   ]
  },
  {
   "cell_type": "code",
   "execution_count": 92,
   "metadata": {},
   "outputs": [
    {
     "data": {
      "text/plain": [
       "torch.Size([4, 2, 3])"
      ]
     },
     "execution_count": 92,
     "metadata": {},
     "output_type": "execute_result"
    }
   ],
   "source": [
    "b=numpy2torch(a)\n",
    "b.shape"
   ]
  },
  {
   "cell_type": "code",
   "execution_count": 93,
   "metadata": {},
   "outputs": [],
   "source": [
    "def torch2numpy(tensor):\n",
    "    \"\"\" Convert 3D PyTorch CHW tensor to 3D numpy HWC ndarray.\"\"\"\n",
    "    assert (tensor.dim() == 3)\n",
    "\n",
    "    result = tensor.clone().permute(1,2,0).numpy()\n",
    "    return result"
   ]
  },
  {
   "cell_type": "code",
   "execution_count": 94,
   "metadata": {},
   "outputs": [
    {
     "data": {
      "text/plain": [
       "(2, 3, 4)"
      ]
     },
     "execution_count": 94,
     "metadata": {},
     "output_type": "execute_result"
    }
   ],
   "source": [
    "torch2numpy(b).shape"
   ]
  },
  {
   "cell_type": "code",
   "execution_count": 95,
   "metadata": {},
   "outputs": [],
   "source": [
    "def load_data(im1_filename, im2_filename, flo_filename):\n",
    "    \"\"\" Loads images and flow ground truth. Returns 4D tensors.\"\"\"\n",
    "    i0_path = os.path.dirname(os.path.abspath(\"A3_P2\"))+\"/\"+im1_filename\n",
    "    i1_path = os.path.dirname(os.path.abspath(\"A3_P2\"))+\"/\"+im2_filename\n",
    "    flo_path = os.path.dirname(os.path.abspath(\"A3_P2\"))+\"/\"+flo_filename\n",
    "    i0 = read_image(i0_path)\n",
    "    i0 = rgb2gray(i0)\n",
    "    i1 = read_image(i1_path)\n",
    "    i1 = rgb2gray(i1)    \n",
    "    tensor1 = numpy2torch(i0).view(1,1,i0.shape[0],i0.shape[1])\n",
    "    tensor2 = numpy2torch(i1).view(1,1,i1.shape[0],i1.shape[1])\n",
    "    flow_gt = numpy2torch(read_flo(flo_path)).view(1,2,i1.shape[0],i1.shape[1])\n",
    "\n",
    "    return tensor1, tensor2, flow_gt"
   ]
  },
  {
   "cell_type": "code",
   "execution_count": 96,
   "metadata": {},
   "outputs": [
    {
     "data": {
      "text/plain": [
       "torch.Size([1, 2, 388, 584])"
      ]
     },
     "execution_count": 96,
     "metadata": {},
     "output_type": "execute_result"
    }
   ],
   "source": [
    "i0,i1,flo=load_data(\"frame10.png\",\"frame11.png\",\"flow10.flo\")\n",
    "flo.shape"
   ]
  },
  {
   "cell_type": "code",
   "execution_count": 97,
   "metadata": {},
   "outputs": [],
   "source": [
    "def evaluate_flow(flow, flow_gt):\n",
    "    \"\"\"\n",
    "    Evaluate the average endpoint error w.r.t the ground truth flow_gt.\n",
    "    Excludes pixels, where u or v components of flow_gt have values > 1e9.\n",
    "    \"\"\"\n",
    "    \n",
    "    \n",
    "    assert (flow.dim() == 4 and flow_gt.dim() == 4)\n",
    "    assert (flow.size(1) == 2 and flow_gt.size(1) == 2)\n",
    "\n",
    "    # AEPE for each pixel\n",
    "    errors_horizontal = flow[0,0,:,:] - flow_gt[0,0,:,:]\n",
    "    errors_vertical = flow[0,1,:,:] - flow_gt[0,1,:,:]\n",
    "    errors = np.sqrt(errors_horizontal**2 + errors_vertical**2)\n",
    "    \n",
    "    # Average over all pixels\n",
    "    aepe = sum(sum(errors))/errors.nelement()\n",
    "\n",
    "    return aepe"
   ]
  },
  {
   "cell_type": "code",
   "execution_count": 98,
   "metadata": {},
   "outputs": [],
   "source": [
    "def warp_image(im, flow):\n",
    "    \"\"\" Warps given image according to the given optical flow.\"\"\"\n",
    "    assert (im.dim() == 4 and flow.dim() == 4)\n",
    "    assert (im.size(1) in [1,3] and flow.size(1) == 2)\n",
    "\n",
    "    warped = []\n",
    "\n",
    "    return warped"
   ]
  },
  {
   "cell_type": "code",
   "execution_count": 99,
   "metadata": {},
   "outputs": [],
   "source": [
    "def visualize_warping_practice(im1, im2, flow_gt):\n",
    "    \"\"\" Visualizes the result of warping the second image by ground truth.\"\"\"\n",
    "    assert (im1.dim() == 4 and im2.dim() == 4 and flow_gt.dim() == 4)\n",
    "    assert (im1.size(1) in [1,3] and im2.size(1) in [1,3] and flow_gt.size(1) == 2)\n",
    "\n",
    "    return"
   ]
  },
  {
   "cell_type": "code",
   "execution_count": 100,
   "metadata": {},
   "outputs": [],
   "source": [
    "def energy_hs(im1, im2, flow, lambda_hs):\n",
    "    \"\"\" Evalutes Horn-Schunck energy function.\"\"\"\n",
    "    assert (im1.dim() == 4 and im2.dim() == 4 and flow.dim() == 4)\n",
    "    assert (im1.size(1) == 1 and im2.size(1) == 1 and flow.size(1) == 2)\n",
    "\n",
    "    energy = []\n",
    "\n",
    "    return energy"
   ]
  },
  {
   "cell_type": "code",
   "execution_count": 101,
   "metadata": {},
   "outputs": [],
   "source": [
    "def estimate_flow(im1, im2, flow_gt, lambda_hs, learning_rate, num_iter):\n",
    "    \"\"\"\n",
    "    Estimate flow using HS with Gradient Descent.\n",
    "    Displays average endpoint error.\n",
    "    Visualizes flow field.\n",
    "\n",
    "    Returns estimated flow]\n",
    "    \"\"\"\n",
    "    assert (im1.dim() == 4 and im2.dim() == 4 and flow_gt.dim() == 4)\n",
    "    assert (im1.size(1) == 1 and im2.size(1) == 1 and flow_gt.size(1) == 2)\n",
    "\n",
    "    return"
   ]
  },
  {
   "cell_type": "code",
   "execution_count": 102,
   "metadata": {},
   "outputs": [],
   "source": [
    "def estimate_flow_LBFGS(im1, im2, flow_gt, lambda_hs, learning_rate, num_iter):\n",
    "    \"\"\"\n",
    "    Estimates flow using HS with LBFGS.\n",
    "    Displays average endpoint error.\n",
    "    Visualizes flow field.\n",
    "\n",
    "    Returns estimated flow\n",
    "    \"\"\"\n",
    "    assert (im1.dim() == 4 and im2.dim() == 4 and flow_gt.dim() == 4)\n",
    "    assert (im1.size(1) == 1 and im2.size(1) == 1 and flow_gt.size(1) == 2)\n",
    "\n",
    "    return"
   ]
  },
  {
   "cell_type": "code",
   "execution_count": 103,
   "metadata": {},
   "outputs": [],
   "source": [
    "def estimate_flow_coarse_to_fine(im1, im2, flow_gt, lambda_hs, learning_rate,\n",
    "                                 num_iter, num_level):\n",
    "    \"\"\"\n",
    "    Estimates flow using HS with LBFGS in a coarse-to-fine scheme.\n",
    "    Displays average endpoint error.\n",
    "    Visualizes flow field.\n",
    "\n",
    "    Returns estimated flow\n",
    "    \"\"\"\n",
    "    assert (im1.dim() == 4 and im2.dim() == 4 and flow_gt.dim() == 4)\n",
    "    assert (im1.size(1) == 1 and im2.size(1) == 1 and flow_gt.size(1) == 2)\n",
    "\n",
    "    return"
   ]
  },
  {
   "cell_type": "code",
   "execution_count": 104,
   "metadata": {},
   "outputs": [],
   "source": [
    "def problem2():\n",
    "\n",
    "    # Loading data\n",
    "    im1, im2, flow_gt = load_data(\"frame10.png\", \"frame11.png\", \"flow10.flo\")\n",
    "    print(\"Flow dim: \", flow_gt.dim())\n",
    "    print(evaluate_flow(flow_gt,flow_gt))\n",
    "    \"\"\"\n",
    "    # Parameters\n",
    "    lambda_hs = 0.0015\n",
    "    num_iter = 400\n",
    "\n",
    "    # Warping_practice\n",
    "    visualize_warping_practice(im1, im2, flow_gt)\n",
    "\n",
    "    # Gradient descent\n",
    "    learning_rate = 20\n",
    "    estimate_flow(im1, im2, flow_gt, lambda_hs, learning_rate, num_iter)\n",
    "\n",
    "    # LBFGS\n",
    "    learning_rate = 1\n",
    "    estimate_flow_LBFGS(im1, im2, flow_gt, lambda_hs, learning_rate, num_iter)\n",
    "\n",
    "    # Coarse to fine\n",
    "    learning_rate = 1\n",
    "    num_level = 4\n",
    "    estimate_flow_coarse_to_fine(\n",
    "        im1, im2, flow_gt, lambda_hs, learning_rate, num_iter, num_level)\n",
    "    \"\"\""
   ]
  },
  {
   "cell_type": "code",
   "execution_count": 105,
   "metadata": {},
   "outputs": [
    {
     "name": "stdout",
     "output_type": "stream",
     "text": [
      "Flow dim:  4\n",
      "2\n",
      "tensor(0.)\n"
     ]
    }
   ],
   "source": [
    "problem2()"
   ]
  },
  {
   "cell_type": "code",
   "execution_count": null,
   "metadata": {},
   "outputs": [],
   "source": []
  }
 ],
 "metadata": {
  "@webio": {
   "lastCommId": null,
   "lastKernelId": null
  },
  "kernelspec": {
   "display_name": "Python 3",
   "language": "python",
   "name": "python3"
  },
  "language_info": {
   "codemirror_mode": {
    "name": "ipython",
    "version": 3
   },
   "file_extension": ".py",
   "mimetype": "text/x-python",
   "name": "python",
   "nbconvert_exporter": "python",
   "pygments_lexer": "ipython3",
   "version": "3.6.7"
  }
 },
 "nbformat": 4,
 "nbformat_minor": 2
}
