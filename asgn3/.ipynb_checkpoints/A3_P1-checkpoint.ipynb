{
 "cells": [
  {
   "cell_type": "code",
   "execution_count": 1,
   "metadata": {},
   "outputs": [],
   "source": [
    "from __future__ import absolute_import\n",
    "from __future__ import division\n",
    "from __future__ import print_function\n",
    "\n",
    "import gco\n",
    "import matplotlib.pyplot as plt\n",
    "import numpy as np\n",
    "from scipy.sparse import csr_matrix\n",
    "from scipy.sparse import lil_matrix\n",
    "from utils import rgb2gray\n",
    "\n",
    "np.set_printoptions(threshold=5000000)"
   ]
  },
  {
   "cell_type": "code",
   "execution_count": 2,
   "metadata": {},
   "outputs": [],
   "source": [
    "# Starting index is 1 maybe we need to shift everything by -1\n",
    "def edges4connected(height, width):\n",
    "    \"\"\" Construct edges for 4-connected neighborhood MRF. Assume row-major ordering.\n",
    "\n",
    "      Args:\n",
    "        height of MRF.\n",
    "        width of MRF.\n",
    "\n",
    "      Returns:\n",
    "        A `nd.array` with dtype `int32/int64` of size |E| x 2.\n",
    "    \"\"\"\n",
    "    edges = []\n",
    "    lin_node_index = (width)*(height)\n",
    "    \n",
    "    for n in np.arange(1,lin_node_index):\n",
    "        if(n%width):\n",
    "            edges.append([n,n+1])\n",
    "        if(n<=(height*width)-width):\n",
    "            edges.append([n,n+width])\n",
    "    \n",
    "        \n",
    "    edges=np.array(edges)\n",
    "            \n",
    "    \n",
    "\n",
    "    # sanity check\n",
    "    assert (edges.dtype in [np.int32, np.int64])\n",
    "    return edges\n"
   ]
  },
  {
   "cell_type": "code",
   "execution_count": 3,
   "metadata": {},
   "outputs": [],
   "source": [
    "def negative_log_laplacian(x, s):\n",
    "    \"\"\" Elementwise evaluation of a log Laplacian. \"\"\"\n",
    "\n",
    "    result = -np.log((1.0/(2*s)) * np.exp(-np.abs(x)/s))\n",
    "    \n",
    "    assert (np.equal(result.shape, x.shape).all())\n",
    "    return result"
   ]
  },
  {
   "cell_type": "code",
   "execution_count": 4,
   "metadata": {},
   "outputs": [],
   "source": [
    "def negative_stereo_loglikelihood(i0, i1, d, s, invalid_penalty=1000.0):\n",
    "    \"\"\" Elementwise stereo negative log likelihood.\n",
    "\n",
    "      Args:\n",
    "        i0, i1                  stereo pair of images.\n",
    "        d                       given disparities.\n",
    "        invalid_penalty:        penalty value if disparity yields position outside of valid range.\n",
    "\n",
    "      Returns:\n",
    "        A `nd.array` with dtype `float32/float64`.\n",
    "    \"\"\"\n",
    "    \n",
    "    size = np.shape(i1)\n",
    "    nllh = np.zeros(size)\n",
    "    i1_d = np.zeros(size)\n",
    "    \n",
    "    for i in range(0, size[0] - 1):\n",
    "        for j in range(0, size[1] - 1):\n",
    "            shifted_index = j - d[i,j]\n",
    "            # Penalize if shifted index is out of image range\n",
    "            if shifted_index < 0 or shifted_index > size[1] - 1:\n",
    "                nllh[i, j] = invalid_penalty\n",
    "            # Otherwise asign cost  laplacian model\n",
    "            else:\n",
    "                x = i0[i, j] - i1[i, shifted_index]\n",
    "                i1_d[i,j]=x\n",
    "                nllh[i, j] = negative_log_laplacian(x, s)\n",
    "    \n",
    "    assert (np.equal(nllh.shape, d.shape).all())\n",
    "    assert (nllh.dtype in [np.float32, np.float64])\n",
    "    \"\"\"plt.figure()\n",
    "    plt.imshow(nllh,cmap=\"gray\")\n",
    "    plt.imshow(d)\n",
    "    plt.show()\"\"\"\n",
    "    return nllh\n"
   ]
  },
  {
   "cell_type": "code",
   "execution_count": 25,
   "metadata": {},
   "outputs": [],
   "source": [
    "def alpha_expansion(i0, i1, edges, d0, candidate_disparities, s, lmbda):\n",
    "    \"\"\" Run alpha-expansion algorithm.\n",
    "\n",
    "      Args:\n",
    "        i0, i1:                  Given grayscale images.\n",
    "        edges:                   Given neighboor of MRF.\n",
    "        d0:                      Initial disparities.\n",
    "        candidate_disparities:   Set of labels to consider\n",
    "        lmbda:                   Regularization parameter for Potts model.\n",
    "\n",
    "      Runs through the set of candidates and iteratively expands a label.\n",
    "      If there have been recorded changes, re-run through the complete set of candidates.\n",
    "      Stops, if there are no changes anymore.\n",
    "\n",
    "      Returns:\n",
    "        A `nd.array` of type `int32`. Assigned labels (source=0 or target=1) minimizing the costs.\n",
    "\n",
    "\n",
    "    \"\"\"\n",
    "    # --------------------------------------------------\n",
    "    # 1. Initialize disparity map\n",
    "    # 2. Repeatedly sweep through all disparities (in a random order)\n",
    "    # 3. Treat intermediate solution as one disparity level and the \n",
    "    #    current proposed disparity as the other\n",
    "    # 4. Solve binary graph-cuts problem\n",
    "    # 5. Repeat until during one sweep no pixel has been updated\n",
    "    # --------------------------------------------------\n",
    "    \n",
    "    # Initialize unary potentials\n",
    "    unary = np.zeros((2,np.shape(d0)[0]*np.shape(d0)[1]))\n",
    "    \n",
    "    # Use standard Potts model (with lambda) for pairwise potentials\n",
    "    \"\"\"pairwise = lil_matrix((np.shape(i1)[0]*np.shape(i1)[1], np.shape(i1)[0]*np.shape(i1)[1]))\n",
    "    for pair in edges:\n",
    "        p0 = pair[0] - 1\n",
    "        p1 = pair[1] - 1\n",
    "        pairwise[p0, p1] = lmbda\n",
    "    pairwise = lil_matrix.tocsr(pairwise)\"\"\"\n",
    "        \n",
    "    data=np.ones(edges.shape[0])*lmbda\n",
    "    row=edges[:,0]-1\n",
    "    col=edges[:,1]-1\n",
    "    #initialise the pairwise csr matrix directly \n",
    "    pairwise=csr_matrix((data, (row, col)), shape=(np.shape(i1)[0]*np.shape(i1)[1], np.shape(i1)[0]*np.shape(i1)[1]))  \n",
    "    iterations = 1\n",
    "    pix_num = i0.shape[0]*i0.shape[1]\n",
    "        \n",
    "    # Repeat graph cut until no pixel has been updated\n",
    "    change_flag = True\n",
    "    d = d0\n",
    "    while (change_flag):\n",
    "        print(\"Iteration: \", iterations)\n",
    "        candidate_disparities = np.random.permutation(candidate_disparities)\n",
    "        change_flag = False\n",
    "        print(\"\\n Disparity_candidate: \", end ='')\n",
    "        for disparity_choice in candidate_disparities:\n",
    "            print(disparity_choice, end =',')\n",
    "            # Randomly select disparity proposal from candidate list\n",
    "            proposed_d = np.full(np.shape(d), fill_value=disparity_choice, dtype=np.int64)            \n",
    "\n",
    "            # Calculate neg. log LHs for both disparities\n",
    "            nllh_old = negative_stereo_loglikelihood(i0, i1, d, s, invalid_penalty=1000.0)\n",
    "            nllh_new = negative_stereo_loglikelihood(i0, i1, proposed_d, s, invalid_penalty=1000.0)            \n",
    "            \n",
    "\n",
    "            # Solve binary graph-cuts problem\n",
    "            \n",
    "            \n",
    "            # Use the neg. log LH for unary potentials\n",
    "            unary[0,:] = nllh_old.reshape((pix_num))\n",
    "            unary[1,:] = nllh_new.reshape((pix_num))\n",
    "            \"\"\"for nllh_old_value,nllh_new_value,unary_field in zip(nllh_old.reshape((pix_num,1)),nllh_new.reshape((pix_num,1)),unary.T):\n",
    "                unary_field[0]= nllh_old_value\n",
    "                unary_field[1]= nllh_new_value\"\"\"\n",
    "                \n",
    "            labels = gco.graphcut(unary, pairwise).reshape(np.shape(d))\n",
    "            d_new = np.zeros(np.shape(d))\n",
    "            \n",
    "            #construct new disparity matrix\n",
    "            d_new= proposed_d*labels\n",
    "            d_new+= d*(-1*(labels-1))\n",
    "            \n",
    "\n",
    "\n",
    "            if not((d==d_new).all()):\n",
    "                change_flag = True\n",
    "\n",
    "            # Use solution of graph-cats as intermediate solution for next iteration\n",
    "            d = np.copy(d_new).astype(np.int64)\n",
    "            \n",
    "            \n",
    "            \n",
    "            \n",
    "        iterations += 1\n",
    "        plt.figure()\n",
    "        plt.imshow(d,cmap=\"gray\")\n",
    "        plt.show()\n",
    "    \n",
    "    d = np.copy(d).astype(np.int32)\n",
    "    \n",
    "    \n",
    "    assert (np.equal(d.shape, d0.shape).all())\n",
    "    assert (d.dtype == d0.dtype)\n",
    "    return d"
   ]
  },
  {
   "cell_type": "code",
   "execution_count": 17,
   "metadata": {},
   "outputs": [],
   "source": [
    "def show_stereo(d, gt):\n",
    "    \"\"\"\n",
    "    Visualize estimate and ground truth in one Figure.\n",
    "    Only show the area for valid gt values (>0).\n",
    "    \"\"\"\n",
    "    new_dim=np.array(np.array(np.nonzero(gt)).T[-1])-np.array(np.array(np.nonzero(gt)).T[0]-[1,1])\n",
    "    \n",
    "    #crop gt and disparity map to the pixels where (gt>0)\n",
    "    cropped_gt=gt[gt>0].reshape((new_dim[0],new_dim[1]))\n",
    "    cropped_d=d[gt>0].reshape((new_dim[0],new_dim[1]))\n",
    "    \n",
    "    #plot\n",
    "    plt.figure(figsize=(15,15))\n",
    "    plt.subplot(121)\n",
    "    plt.title(\"Estimation:\")\n",
    "    #set vmin to 0 so both same disparity results in the same color\n",
    "    plt.imshow(cropped_d, cmap=\"gray\",vmin=0)\n",
    "    plt.subplot(122)\n",
    "    plt.title(\"Ground Truth:\")\n",
    "    plt.imshow(cropped_gt, cmap=\"gray\",vmin=0)\n",
    "    plt.show\n",
    "    \n",
    "\n",
    "    return"
   ]
  },
  {
   "cell_type": "code",
   "execution_count": 18,
   "metadata": {},
   "outputs": [],
   "source": [
    "def evaluate_stereo(d, gt):\n",
    "    \"\"\"Computes percentage of false labels in the valid region (gt > 0).\"\"\"\n",
    "\n",
    "    new_dim=np.array(np.array(np.nonzero(gt)).T[-1])-np.array(np.array(np.nonzero(gt)).T[0]-[1,1])\n",
    "    cropped_gt=gt[gt>0].reshape((new_dim[0],new_dim[1]))\n",
    "    cropped_d=d[gt>0].reshape((new_dim[0],new_dim[1]))    \n",
    "    diff=cropped_gt-cropped_d\n",
    "    result= np.array(np.nonzero(diff)).shape[1] / (cropped_gt.shape[0]*cropped_gt.shape[1])\n",
    "    \n",
    "\n",
    "    return 100-result * 100"
   ]
  },
  {
   "cell_type": "code",
   "execution_count": 23,
   "metadata": {},
   "outputs": [],
   "source": [
    "def problem1():\n",
    "    # Read stereo images and ground truth disparities\n",
    "    i0 = rgb2gray(plt.imread('i0.png')).squeeze().astype(np.float32)\n",
    "    i1 = rgb2gray(plt.imread('i1.png')).squeeze().astype(np.float32)\n",
    "    gt = (255 * plt.imread('gt.png')).astype(np.int32)\n",
    "    \n",
    "    # Set Potts penalty\n",
    "    lmbda = 3.0\n",
    "    s = 10.0 / 255.0\n",
    "\n",
    "    # Create 4 connected edge neighborhood\n",
    "    edges = edges4connected(i0.shape[0], i0.shape[1])\n",
    "\n",
    "    # Candidate search range\n",
    "    candidate_disparities = np.arange(0, gt.max() + 1)\n",
    "\n",
    "    \n",
    "    # Graph cuts with zero initialization\n",
    "    zero_init = np.zeros(gt.shape).astype(np.int32)\n",
    "    estimate_zero_init = alpha_expansion(i0, i1, edges, zero_init, candidate_disparities, s, lmbda)\n",
    "    show_stereo(estimate_zero_init, gt)\n",
    "    perc_correct = evaluate_stereo(estimate_zero_init, gt)\n",
    "    print(\"Correct labels (zero init): %3.2f%%\" % (perc_correct))\n",
    "    \n",
    "    #Random init looks mostly similar\n",
    "   # Graph cuts with random initialization\n",
    "    \"\"\"random_init = np.random.randint(low=0, high=gt.max() + 1, size=i0.shape).astype(np.int32)\n",
    "    estimate_random_init = alpha_expansion(i0, i1, edges, random_init, candidate_disparities, s, lmbda)\n",
    "    show_stereo(estimate_random_init, gt)\n",
    "    perc_correct = evaluate_stereo(estimate_random_init, gt)\n",
    "    print(\"Correct labels (random init): %3.2f%%\" % (perc_correct))\"\"\"\n",
    "    "
   ]
  },
  {
   "cell_type": "code",
   "execution_count": 26,
   "metadata": {},
   "outputs": [
    {
     "name": "stdout",
     "output_type": "stream",
     "text": [
      "Iteration:  1\n",
      "\n",
      " Disparity_candidate: 9,7,13,4,0,1,11,2,14,10,8,5,12,6,3,"
     ]
    },
    {
     "data": {
      "image/png": "[encoded data removed]",
      "text/plain": [
       "<Figure size 432x288 with 1 Axes>"
      ]
     },
     "metadata": {
      "needs_background": "light"
     },
     "output_type": "display_data"
    },
    {
     "name": "stdout",
     "output_type": "stream",
     "text": [
      "Iteration:  2\n",
      "\n",
      " Disparity_candidate: 3,8,10,9,4,2,1,5,12,7,0,11,14,6,13,"
     ]
    },
    {
     "data": {
      "image/png": "[encoded data removed]",
      "text/plain": [
       "<Figure size 432x288 with 1 Axes>"
      ]
     },
     "metadata": {
      "needs_background": "light"
     },
     "output_type": "display_data"
    },
    {
     "name": "stdout",
     "output_type": "stream",
     "text": [
      "Iteration:  3\n",
      "\n",
      " Disparity_candidate: 7,2,12,9,4,3,14,1,11,0,13,8,6,5,10,"
     ]
    },
    {
     "data": {
      "image/png": "[encoded data removed]",
      "text/plain": [
       "<Figure size 432x288 with 1 Axes>"
      ]
     },
     "metadata": {
      "needs_background": "light"
     },
     "output_type": "display_data"
    },
    {
     "name": "stdout",
     "output_type": "stream",
     "text": [
      "Correct labels (zero init): 78.32%\n"
     ]
    },
    {
     "data": {
      "image/png": "[encoded data removed]",
      "text/plain": [
       "<Figure size 1080x1080 with 2 Axes>"
      ]
     },
     "metadata": {
      "needs_background": "light"
     },
     "output_type": "display_data"
    }
   ],
   "source": [
    "problem1()"
   ]
  },
  {
   "cell_type": "markdown",
   "metadata": {},
   "source": [
    "The graphcut algorithm has particular problems with slim objects like the stand of the lamp or the grips and legs of the camera. Also diagonal edges are more costly than straight horizontal/vertical edges."
   ]
  },
  {
   "cell_type": "code",
   "execution_count": null,
   "metadata": {},
   "outputs": [],
   "source": []
  }
 ],
 "metadata": {
  "@webio": {
   "lastCommId": null,
   "lastKernelId": null
  },
  "kernelspec": {
   "display_name": "Python 3",
   "language": "python",
   "name": "python3"
  },
  "language_info": {
   "codemirror_mode": {
    "name": "ipython",
    "version": 3
   },
   "file_extension": ".py",
   "mimetype": "text/x-python",
   "name": "python",
   "nbconvert_exporter": "python",
   "pygments_lexer": "ipython3",
   "version": "3.7.3"
  }
 },
 "nbformat": 4,
 "nbformat_minor": 2
}
